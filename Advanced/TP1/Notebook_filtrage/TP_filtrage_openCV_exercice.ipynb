{
 "cells": [
  {
   "cell_type": "markdown",
   "metadata": {},
   "source": [
    "# Neighborhood-Based Filtering (using openCV)"
   ]
  },
  {
   "cell_type": "markdown",
   "metadata": {},
   "source": [
    "### julien.rabin (at) ensicaen.fr"
   ]
  },
  {
   "cell_type": "code",
   "execution_count": null,
   "metadata": {},
   "outputs": [],
   "source": [
    "import cv2\n",
    "import numpy as np\n",
    "import matplotlib.pyplot as plt\n",
    "\n",
    "# for Jupyter notebook\n",
    "%matplotlib inline "
   ]
  },
  {
   "cell_type": "code",
   "execution_count": null,
   "metadata": {},
   "outputs": [],
   "source": [
    "file_name = 'fake.png' # 'flower.jpg'\n",
    "img_u8 = ... # utiliser cv2.imread\n",
    "plt.imshow(img_u8)\n",
    "plt.title(\"8 bit BGR format\")"
   ]
  },
  {
   "cell_type": "code",
   "execution_count": null,
   "metadata": {},
   "outputs": [],
   "source": [
    "img0_U8 = cv2.cvtColor(img_u8, cv2.COLOR_BGR2RGB)\n",
    "plt.imshow(img0_U8)\n",
    "plt.title(\"8 bit RGB format\")"
   ]
  },
  {
   "cell_type": "code",
   "execution_count": null,
   "metadata": {},
   "outputs": [],
   "source": [
    "B = img_u8[...,0]\n",
    "G = img_u8[...,1]\n",
    "R = img_u8[...,2]\n",
    "img0 = np.stack((R,G,B),axis=2)\n",
    "img0 = np.single(img0) / 255 # in [0,1]\n",
    "img = img0 + 20/255. * np.random.randn(*img0.shape).astype('f')\n",
    "img = np.clip(img,0.,1.)\n",
    "plt.figure(figsize = (10,10))\n",
    "plt.imshow(np.concatenate((img0,img),1))"
   ]
  },
  {
   "cell_type": "code",
   "execution_count": null,
   "metadata": {},
   "outputs": [],
   "source": [
    "sig_pix = 10.\n",
    "img_gauss = ... # utiliser cv2.GaussianBlur\n",
    "diff = (img_gauss - img) # in [-1,1]\n",
    "diff = np.clip(10*diff,-1,1) + 0.5 # in [0,1]\n",
    "res_gauss = np.concatenate((img0, img,img_gauss,diff),axis=1)\n",
    "\n",
    "plt.figure(figsize=(20,20))\n",
    "plt.imshow(res_gauss)\n",
    "plt.title(\" GT / noise / gauss filter / diff\")\n",
    "plt.axis(\"off\")"
   ]
  },
  {
   "cell_type": "markdown",
   "metadata": {},
   "source": [
    "## Bilateral Filtering"
   ]
  },
  {
   "cell_type": "code",
   "execution_count": null,
   "metadata": {},
   "outputs": [],
   "source": [
    "sig_pix = 10.\n",
    "sig_col = 50./255.\n",
    "img_bilateral = ... # utiliser cv2.bilateralFilter\n",
    "\n",
    "diff = (img_bilateral - img) # in [-1,1]\n",
    "diff = np.clip(10*diff,-1,1) + 0.5 # in [0,1]\n",
    "res_bilateral = np.concatenate((img0,img,img_bilateral,diff),axis=1)\n",
    "res = np.concatenate((res_gauss,res_bilateral),axis=0)\n",
    "\n",
    "plt.figure(figsize=(20,20))\n",
    "plt.imshow(res)\n",
    "plt.title(\"gauss / bilateral filtering\")\n",
    "plt.axis(\"off\")"
   ]
  },
  {
   "cell_type": "markdown",
   "metadata": {},
   "source": [
    "## Joint / Cross - Bilateral Filtering\n",
    "\n",
    "see Eisemann and Durand [2004] and Petschnigg et al. [2004] "
   ]
  },
  {
   "cell_type": "code",
   "execution_count": null,
   "metadata": {},
   "outputs": [],
   "source": [
    "# definir le filtre bilateral d'une image où les poids sont calculés sur une autres images de guide\n",
    "img_crossbilateral = ..."
   ]
  },
  {
   "cell_type": "markdown",
   "metadata": {},
   "source": [
    "## Non Local Filtering\n",
    "\n"
   ]
  },
  {
   "cell_type": "code",
   "execution_count": null,
   "metadata": {},
   "outputs": [],
   "source": [
    "patch_size = 7\n",
    "tau_lum = 10.\n",
    "tau_color = 10.\n",
    "searchWindowSize = 21\n",
    "img_U8 = np.uint8(255.*img)\n",
    "img_NLM = ... # utiliser fastNlMeansDenoisingColored\n",
    "img_NLM = np.single(img_NLM)/255. # in [0,1]\n"
   ]
  },
  {
   "cell_type": "code",
   "execution_count": null,
   "metadata": {},
   "outputs": [],
   "source": [
    "diff = (img_NLM - img) # in [-1,1]\n",
    "diff = np.clip(10*diff,-1,1) + 0.5 # in [0,1]\n",
    "res_NLM = np.concatenate((img0,img,img_NLM,diff),axis=1)\n",
    "res = np.concatenate((res_bilateral,res_NLM),axis=0)\n",
    "\n",
    "plt.figure(figsize=(20,20))\n",
    "plt.imshow(res)\n",
    "plt.title(\" bilateral / Non-Local filtering\")\n",
    "plt.axis(\"off\")"
   ]
  },
  {
   "cell_type": "code",
   "execution_count": null,
   "metadata": {},
   "outputs": [],
   "source": [
    "plt.figure(figsize=(20,20))\n",
    "plt.imshow(np.concatenate((img_bilateral, img_NLM), axis = 1))\n",
    "plt.title(\" bilateral / Non-Local filtering\")\n",
    "plt.axis(\"off\")"
   ]
  },
  {
   "cell_type": "code",
   "execution_count": null,
   "metadata": {},
   "outputs": [],
   "source": []
  }
 ],
 "metadata": {
  "kernelspec": {
   "display_name": "Python 3",
   "language": "python",
   "name": "python3"
  },
  "language_info": {
   "codemirror_mode": {
    "name": "ipython",
    "version": 3
   },
   "file_extension": ".py",
   "mimetype": "text/x-python",
   "name": "python",
   "nbconvert_exporter": "python",
   "pygments_lexer": "ipython3",
   "version": "3.6.9"
  }
 },
 "nbformat": 4,
 "nbformat_minor": 2
}
