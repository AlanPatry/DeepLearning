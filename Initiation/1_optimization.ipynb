{
 "cells": [
  {
   "cell_type": "code",
   "execution_count": 2,
   "metadata": {
    "id": "rJ_YHQEUvG7l"
   },
   "outputs": [],
   "source": [
    "%matplotlib inline\n",
    "import numpy as np\n",
    "import torch"
   ]
  },
  {
   "cell_type": "markdown",
   "metadata": {
    "id": "Glstt0cntmo5"
   },
   "source": [
    "----------------------------\n",
    "#Session 1 \n",
    "----------------------------"
   ]
  },
  {
   "cell_type": "markdown",
   "metadata": {
    "id": "pSG7CNISKQqk"
   },
   "source": [
    "# Training a Neural Network\n",
    "\n"
   ]
  },
  {
   "cell_type": "markdown",
   "metadata": {
    "id": "A6F6wMHpVlq4"
   },
   "source": [
    "## Linear regression from scratch\n",
    "\n",
    "This material is adapted from from [this tutorial](https://colab.research.google.com/github/AyyappaSwamyPanthadi/JovianDLwithPyTorch/blob/main/02_linear_regression.ipynb).\n"
   ]
  },
  {
   "cell_type": "markdown",
   "metadata": {
    "id": "NiRuJPJEpTbT"
   },
   "source": [
    "### Quick recap on Linear Regression (You may skip this)\n"
   ]
  },
  {
   "cell_type": "markdown",
   "metadata": {
    "id": "ZzADg8CInTT1"
   },
   "source": [
    "\n",
    "In this tutorial, we'll discuss one of the foundational algorithms in machine learning: *Linear regression*. We'll create a model that predicts crop yields for apples and oranges (*target variables*) by looking at the average temperature, rainfall, and humidity (*input variables or features*) in a region. Here's the training data:\n",
    "\n",
    "![linear-regression-training-data](https://i.imgur.com/6Ujttb4.png)\n",
    "\n",
    "In a linear regression model, each target variable is estimated to be a weighted sum of the input variables, offset by some constant, known as a bias :\n",
    "\n",
    "```\n",
    "yield_apple  = w11 * temp + w12 * rainfall + w13 * humidity + b1\n",
    "yield_orange = w21 * temp + w22 * rainfall + w23 * humidity + b2\n",
    "```\n",
    "\n",
    "Visually, it means that the yield of apples is a linear or planar function of temperature, rainfall and humidity:\n",
    "\n",
    "![linear-regression-graph](https://i.imgur.com/4DJ9f8X.png)"
   ]
  },
  {
   "cell_type": "markdown",
   "metadata": {
    "id": "W7FMvwzHnTT1"
   },
   "source": [
    "The *learning* part of linear regression is to figure out a set of weights `w11, w12,... w23, b1 & b2` using the training data, to make accurate predictions for new data. The _learned_ weights will be used to predict the yields for apples and oranges in a new region using the average temperature, rainfall, and humidity for that region. \n",
    "\n",
    "We'll _train_ our model by adjusting the weights slightly many times to make better predictions, using an optimization technique called *gradient descent*. Let's begin by importing Numpy and PyTorch."
   ]
  },
  {
   "cell_type": "markdown",
   "metadata": {
    "id": "s3IqanhvnTT1"
   },
   "source": [
    "### Training data\n",
    "\n",
    "We can represent the training data using two matrices: `inputs` and `targets`, each with one row per observation, and one column per variable."
   ]
  },
  {
   "cell_type": "code",
   "execution_count": 47,
   "metadata": {
    "id": "tcn-wTHjnTT1"
   },
   "outputs": [],
   "source": [
    "# Input (temp, rainfall, humidity)\n",
    "inputs_np = np.array([[73, 67, 43], \n",
    "                   [91, 88, 64], \n",
    "                   [87, 134, 58], \n",
    "                   [102, 43, 37], \n",
    "                   [69, 96, 70]], dtype='float32')"
   ]
  },
  {
   "cell_type": "code",
   "execution_count": 48,
   "metadata": {
    "id": "E_NGrsiznTT1"
   },
   "outputs": [],
   "source": [
    "# Targets (apples, oranges)\n",
    "targets_np = np.array([[56, 70], \n",
    "                    [81, 101], \n",
    "                    [119, 133], \n",
    "                    [22, 37], \n",
    "                    [103, 119]], dtype='float32')"
   ]
  },
  {
   "cell_type": "markdown",
   "metadata": {
    "id": "VXWt96VZnTT1"
   },
   "source": [
    "We've separated the input and target variables because we'll operate on them separately. Also, we've created numpy arrays, because this is typically how you would work with training data: read some CSV files as numpy arrays, do some processing, and then convert them to PyTorch tensors.\n",
    "\n",
    "Let's convert the arrays to PyTorch tensors."
   ]
  },
  {
   "cell_type": "code",
   "execution_count": 49,
   "metadata": {
    "colab": {
     "base_uri": "https://localhost:8080/"
    },
    "id": "gMijJeq0nTT1",
    "outputId": "be386579-b649-4282-beff-5b2fa7629eed"
   },
   "outputs": [
    {
     "name": "stdout",
     "output_type": "stream",
     "text": [
      "tensor([[ 73.,  67.,  43.],\n",
      "        [ 91.,  88.,  64.],\n",
      "        [ 87., 134.,  58.],\n",
      "        [102.,  43.,  37.],\n",
      "        [ 69.,  96.,  70.]])\n",
      "tensor([[ 56.,  70.],\n",
      "        [ 81., 101.],\n",
      "        [119., 133.],\n",
      "        [ 22.,  37.],\n",
      "        [103., 119.]])\n"
     ]
    }
   ],
   "source": [
    "# Convert inputs and targets to tensors\n",
    "inputs = torch.from_numpy(inputs_np)\n",
    "targets = torch.from_numpy(targets_np)\n",
    "print(inputs)\n",
    "print(targets)"
   ]
  },
  {
   "cell_type": "markdown",
   "metadata": {
    "id": "gQF2EGB482Rh"
   },
   "source": [
    "### Prediction model and trainable parameters\n",
    "The weights and biases (`w11, w12,... w23, b1 & b2`) can also be represented as matrices, initialized as random values. The first row of `w` and the first element of `b` are used to predict the first target variable, i.e., yield of apples, and similarly, the second for oranges."
   ]
  },
  {
   "cell_type": "code",
   "execution_count": 50,
   "metadata": {
    "colab": {
     "base_uri": "https://localhost:8080/"
    },
    "id": "Rt4nxbZ1nTT3",
    "outputId": "e79e0cb3-5128-401f-c569-ff560bbe131c"
   },
   "outputs": [
    {
     "name": "stdout",
     "output_type": "stream",
     "text": [
      "tensor([[ 1.2687,  1.4088, -0.0919],\n",
      "        [ 0.5960, -1.3285, -0.0507]], requires_grad=True)\n",
      "tensor([ 0.8669, -0.8363], requires_grad=True)\n"
     ]
    }
   ],
   "source": [
    "# Weights and biases\n",
    "w = torch.randn(2, 3, requires_grad=True)\n",
    "b = torch.randn(2, requires_grad=True)\n",
    "print(w)\n",
    "print(b)"
   ]
  },
  {
   "cell_type": "markdown",
   "metadata": {
    "id": "gpx-WJyKnTT3"
   },
   "source": [
    "`torch.randn` creates a tensor with the given shape, with elements picked randomly from a [normal distribution](https://en.wikipedia.org/wiki/Normal_distribution) with mean 0 and standard deviation 1.\n",
    "\n"
   ]
  },
  {
   "cell_type": "markdown",
   "metadata": {
    "id": "q1KtI9-uDlOM"
   },
   "source": [
    "## Exercise 1: define the linear model\n",
    "Our *model* is simply a function that performs a matrix multiplication of the `inputs` and the weights `w` (transposed) and adds the bias `b` (replicated for each observation).\n",
    "\n",
    "![matrix-mult](https://i.imgur.com/WGXLFvA.png)\n",
    "\n",
    "* Explain why the transpose and why the weight $W$ are at the right-hand-side of the matrix multiplication.\n",
    "* Implement the model as a closure (recall that  `@` represents matrix multiplication in PyTorch, and the `.t` method returns the transpose of a tensor.)\n"
   ]
  },
  {
   "cell_type": "code",
   "execution_count": 51,
   "metadata": {
    "colab": {
     "base_uri": "https://localhost:8080/"
    },
    "id": "hx_I7LMRnTT3",
    "outputId": "2b617158-b76c-4408-fcb8-2dde96a7de44"
   },
   "outputs": [
    {
     "name": "stdout",
     "output_type": "stream",
     "text": [
      "Exercise 1: OK\n"
     ]
    }
   ],
   "source": [
    "# we use X * WT + b instead of W * X + b because the convention of pytorch uses column tensors \n",
    "debug = False\n",
    "def exercise1():\n",
    "  def model(inputs):\n",
    "      '''This closure implements a linear model. \n",
    "      It should capture w and b from the local scope, while inputs are passed explicitly.'''\n",
    "      wt = torch.t(w)\n",
    "      return inputs@wt+b\n",
    "  return model\n",
    "\n",
    "def test_exercise1():\n",
    "    model = exercise1()\n",
    "    preds = model(inputs)\n",
    "    global w, b\n",
    "    with torch.no_grad():\n",
    "      w*=2\n",
    "      b*=2\n",
    "      preds2 = model(inputs)\n",
    "      w/=2\n",
    "      b/=2\n",
    "    if  preds.shape==targets.shape and torch.allclose(preds2, 2*preds, 1e-3):\n",
    "      print('Exercise 1: OK')\n",
    "    else:\n",
    "      print('Exercise 1: NOK')\n",
    "      if debug:\n",
    "        print(f'targest have shape {targets.shape} while preds have shape {preds.shape}')\n",
    "        print(f' result : {preds2}')\n",
    "        print(f' expected : {preds*2}')\n",
    "  \n",
    "\n",
    "test_exercise1()"
   ]
  },
  {
   "cell_type": "markdown",
   "metadata": {
    "id": "bPVEBiIEnTT3"
   },
   "source": [
    "\n",
    "The matrix obtained by passing the input data into the model is a set of predictions for the target variables."
   ]
  },
  {
   "cell_type": "code",
   "execution_count": 52,
   "metadata": {
    "colab": {
     "base_uri": "https://localhost:8080/"
    },
    "id": "o1NDBr7RnTT3",
    "outputId": "f91e80b0-ae61-4516-9ce8-000f27df2afc"
   },
   "outputs": [
    {
     "name": "stdout",
     "output_type": "stream",
     "text": [
      "tensor([[ 183.9185,  -48.5211],\n",
      "        [ 234.4100,  -66.7573],\n",
      "        [ 294.6909, -129.9496],\n",
      "        [ 187.4501,    0.9518],\n",
      "        [ 217.2185,  -90.8017]], grad_fn=<AddBackward0>)\n"
     ]
    }
   ],
   "source": [
    "# Generate predictions\n",
    "model=exercise1()\n",
    "preds = model(inputs)\n",
    "print(preds)"
   ]
  },
  {
   "cell_type": "markdown",
   "metadata": {
    "id": "lE6Z0_yXnTT3"
   },
   "source": [
    "Let's compare the predictions of our model with the actual targets."
   ]
  },
  {
   "cell_type": "code",
   "execution_count": 53,
   "metadata": {
    "colab": {
     "base_uri": "https://localhost:8080/"
    },
    "id": "RKMOC8s6nTT3",
    "outputId": "e9eb1705-c62a-4ecc-9033-d0311752765d"
   },
   "outputs": [
    {
     "name": "stdout",
     "output_type": "stream",
     "text": [
      "tensor([[ 56.,  70.],\n",
      "        [ 81., 101.],\n",
      "        [119., 133.],\n",
      "        [ 22.,  37.],\n",
      "        [103., 119.]])\n"
     ]
    }
   ],
   "source": [
    "# Compare with targets\n",
    "print(targets)"
   ]
  },
  {
   "cell_type": "markdown",
   "metadata": {
    "id": "2fk3vJAlnTT3"
   },
   "source": [
    "You can see a big difference between our model's predictions and the actual targets because we've initialized our model with random weights and biases. Obviously, we can't expect a randomly initialized model to *just work*."
   ]
  },
  {
   "cell_type": "markdown",
   "metadata": {
    "id": "pd9O0g-SnTT3"
   },
   "source": [
    "## Exercise 2: Loss function\n",
    "\n",
    "Before we improve our model, we need a way to evaluate how well our model is performing. We can compare the model's predictions with the actual targets using the following method:\n",
    "\n",
    "* Calculate the difference between the two matrices (`preds` and `targets`).\n",
    "* Square all elements of the difference matrix to remove negative values.\n",
    "* Calculate the average of the elements in the resulting matrix.\n",
    "\n",
    "The result is a single number, known as the **mean squared error** (MSE)."
   ]
  },
  {
   "cell_type": "code",
   "execution_count": 76,
   "metadata": {
    "colab": {
     "base_uri": "https://localhost:8080/"
    },
    "id": "X3CTid0inTT3",
    "outputId": "4f7f4d0c-e584-431f-b9eb-0d5fdd2e3afc"
   },
   "outputs": [
    {
     "name": "stdout",
     "output_type": "stream",
     "text": [
      "Exercise 2: OK\n"
     ]
    }
   ],
   "source": [
    "debug = False\n",
    "def mse(t1, t2):\n",
    "    sub = t1 - t2\n",
    "    square = sub.square()\n",
    "    return square.mean()\n",
    "\n",
    "def test_exercise2():\n",
    "    t1=torch.linspace(1,25,12).view((3,-1))\n",
    "    t2 = t1/2;\n",
    "    loss = mse(t1,t2)\n",
    "    expected = torch.tensor(56.4318)\n",
    "    if  torch.allclose(loss, expected, 1e-3):\n",
    "      print('Exercise 2: OK')\n",
    "    else:\n",
    "      print('Exercise 2: NOK')\n",
    "      if debug:\n",
    "        print(f' result : {loss}')\n",
    "        print(f' expected : {expected}')\n",
    "  \n",
    "\n",
    "test_exercise2()"
   ]
  },
  {
   "cell_type": "markdown",
   "metadata": {
    "id": "c_1IlBUSnTT3"
   },
   "source": [
    "`torch.sum` returns the sum of all the elements in a tensor. The `.numel` method of a tensor returns the number of elements in a tensor. Let's compute the mean squared error for the current predictions of our model."
   ]
  },
  {
   "cell_type": "code",
   "execution_count": 55,
   "metadata": {
    "colab": {
     "base_uri": "https://localhost:8080/"
    },
    "id": "el39Br0_nTT3",
    "outputId": "27c29964-6d77-4ac4-a173-419c6750df6f"
   },
   "outputs": [
    {
     "name": "stdout",
     "output_type": "stream",
     "text": [
      "tensor(26783.3184, grad_fn=<MeanBackward0>)\n"
     ]
    }
   ],
   "source": [
    "# Compute loss\n",
    "loss = mse(preds, targets)\n",
    "print(loss)"
   ]
  },
  {
   "cell_type": "markdown",
   "metadata": {
    "id": "MwFznNMRnTT3"
   },
   "source": [
    "Here’s how we can interpret the result: *On average, each element in the prediction differs from the actual target by the square root of the loss*. And that’s pretty bad, considering the numbers we are trying to predict are themselves in the range 50–200. The result is called the *loss* because it indicates how bad the model is at predicting the target variables. It represents information loss in the model: the lower the loss, the better the model."
   ]
  },
  {
   "cell_type": "markdown",
   "metadata": {
    "id": "7JTLBcHKnTT4"
   },
   "source": [
    "### Compute gradients with back-propagation\n",
    "\n",
    "With PyTorch, we can automatically compute the gradient or derivative of the loss w.r.t. to the weights and biases because they have `requires_grad` set to `True`. We'll see how this is useful in just a moment."
   ]
  },
  {
   "cell_type": "code",
   "execution_count": 56,
   "metadata": {
    "id": "4vR_Qx_anTT4"
   },
   "outputs": [],
   "source": [
    "# Compute gradients\n",
    "loss.backward()"
   ]
  },
  {
   "cell_type": "markdown",
   "metadata": {
    "id": "Q6P_G_IunTT4"
   },
   "source": [
    "The gradients are stored in the `.grad` property of the respective tensors. Note that the derivative of the loss w.r.t. the weights matrix is itself a matrix with the same dimensions."
   ]
  },
  {
   "cell_type": "code",
   "execution_count": 57,
   "metadata": {
    "colab": {
     "base_uri": "https://localhost:8080/"
    },
    "id": "gFHnNlGGnTT4",
    "outputId": "2a76741e-d8ff-4ae4-c132-3b23fc3a434b"
   },
   "outputs": [
    {
     "name": "stdout",
     "output_type": "stream",
     "text": [
      "tensor([[ 1.2687,  1.4088, -0.0919],\n",
      "        [ 0.5960, -1.3285, -0.0507]], requires_grad=True)\n",
      "tensor([[ 12668.0938,  12738.5078,   7925.1528],\n",
      "        [-12989.5615, -15925.9668,  -9420.7705]])\n"
     ]
    }
   ],
   "source": [
    "# Gradients for weights\n",
    "print(w)\n",
    "print(w.grad)"
   ]
  },
  {
   "cell_type": "markdown",
   "metadata": {
    "id": "IwThOdeCnTT4"
   },
   "source": [
    "### Adjust weights and biases to reduce the loss"
   ]
  },
  {
   "cell_type": "code",
   "execution_count": 58,
   "metadata": {
    "colab": {
     "base_uri": "https://localhost:8080/"
    },
    "id": "rS5Ud2BqnTT4",
    "outputId": "43291e5a-2bb6-46ce-ebc4-e7c134ce7c5f"
   },
   "outputs": [
    {
     "data": {
      "text/plain": [
       "tensor([[ 12668.0938,  12738.5078,   7925.1528],\n",
       "        [-12989.5615, -15925.9668,  -9420.7705]])"
      ]
     },
     "execution_count": 58,
     "metadata": {},
     "output_type": "execute_result"
    }
   ],
   "source": [
    "w\n",
    "w.grad"
   ]
  },
  {
   "cell_type": "code",
   "execution_count": 59,
   "metadata": {
    "id": "EufDzKpKnTT4"
   },
   "outputs": [],
   "source": [
    "with torch.no_grad():\n",
    "    w -= w.grad * 1e-5\n",
    "    b -= b.grad * 1e-5"
   ]
  },
  {
   "cell_type": "markdown",
   "metadata": {
    "id": "LPe-k0O4nTT4"
   },
   "source": [
    "We multiply the gradients with a very small number (`10^-5` in this case) to ensure that we don't modify the weights by a very large amount. We want to take a small step in the downhill direction of the gradient, not a giant leap. This number is called the *learning rate* of the algorithm. \n",
    "\n",
    "We use `torch.no_grad` to indicate to PyTorch that we shouldn't track, calculate, or modify gradients while updating the weights and biases."
   ]
  },
  {
   "cell_type": "code",
   "execution_count": 60,
   "metadata": {
    "colab": {
     "base_uri": "https://localhost:8080/"
    },
    "id": "J_5ETo1_nTT4",
    "outputId": "c644ffa2-9d17-4fe2-d29f-e2676ae28090"
   },
   "outputs": [
    {
     "name": "stdout",
     "output_type": "stream",
     "text": [
      "tensor(18617.1914, grad_fn=<MeanBackward0>)\n"
     ]
    }
   ],
   "source": [
    "# Let's verify that the loss is actually lower\n",
    "preds = model(inputs)\n",
    "loss = mse(preds, targets)\n",
    "print(loss)"
   ]
  },
  {
   "cell_type": "markdown",
   "metadata": {
    "id": "IljCPYoenTT4"
   },
   "source": [
    "Before we proceed, we reset the gradients to zero by invoking the `.zero_()` method. We need to do this because PyTorch accumulates gradients. Otherwise, the next time we invoke `.backward` on the loss, the new gradient values are added to the existing gradients, which may lead to unexpected results."
   ]
  },
  {
   "cell_type": "code",
   "execution_count": 61,
   "metadata": {
    "colab": {
     "base_uri": "https://localhost:8080/"
    },
    "id": "8tNqHSVGnTT4",
    "outputId": "1e8dea9d-ee1c-4b3c-eb18-10f6e93ca540"
   },
   "outputs": [
    {
     "name": "stdout",
     "output_type": "stream",
     "text": [
      "tensor([[0., 0., 0.],\n",
      "        [0., 0., 0.]])\n",
      "tensor([0., 0.])\n"
     ]
    }
   ],
   "source": [
    "w.grad.zero_()\n",
    "b.grad.zero_()\n",
    "print(w.grad)\n",
    "print(b.grad)"
   ]
  },
  {
   "cell_type": "markdown",
   "metadata": {
    "id": "sz9uHPJHnTT4"
   },
   "source": [
    "### Train the model using gradient descent\n",
    "\n",
    "As seen above, we reduce the loss and improve our model using the gradient descent optimization algorithm. Thus, we can _train_ the model using the following steps:\n",
    "\n",
    "1. Generate predictions\n",
    "\n",
    "2. Calculate the loss\n",
    "\n",
    "3. Compute gradients w.r.t the weights and biases\n",
    "\n",
    "4. Adjust the weights by subtracting a small quantity proportional to the gradient\n",
    "\n",
    "5. Reset the gradients to zero\n",
    "\n",
    "Let's implement the above step by step."
   ]
  },
  {
   "cell_type": "code",
   "execution_count": 62,
   "metadata": {
    "colab": {
     "base_uri": "https://localhost:8080/"
    },
    "id": "L15inDxfnTT4",
    "outputId": "ac36d7ae-17ac-4483-8382-afc0755d6a89"
   },
   "outputs": [
    {
     "name": "stdout",
     "output_type": "stream",
     "text": [
      "tensor([[162.7268, -24.3158],\n",
      "        [206.5986, -34.8910],\n",
      "        [262.0020, -91.8423],\n",
      "        [166.1174,  24.5366],\n",
      "        [190.6994, -59.9538]], grad_fn=<AddBackward0>)\n"
     ]
    }
   ],
   "source": [
    "# Generate predictions\n",
    "preds = model(inputs)\n",
    "print(preds)"
   ]
  },
  {
   "cell_type": "code",
   "execution_count": 63,
   "metadata": {
    "colab": {
     "base_uri": "https://localhost:8080/"
    },
    "id": "W9HfDOF2nTT5",
    "outputId": "04e2999d-0e44-4e56-ffd6-044dbf250411"
   },
   "outputs": [
    {
     "name": "stdout",
     "output_type": "stream",
     "text": [
      "18617.19140625\n"
     ]
    }
   ],
   "source": [
    "# Calculate the loss\n",
    "loss = mse(preds, targets)\n",
    "loss_at_init = loss.item()\n",
    "print(loss_at_init)"
   ]
  },
  {
   "cell_type": "code",
   "execution_count": 64,
   "metadata": {
    "colab": {
     "base_uri": "https://localhost:8080/"
    },
    "id": "cTwKt8TpnTT5",
    "outputId": "b66e5045-2828-44ca-af6c-116a489e3379"
   },
   "outputs": [
    {
     "name": "stdout",
     "output_type": "stream",
     "text": [
      "tensor([[ 10482.5879,  10396.3672,   6478.5972],\n",
      "        [-10486.2988, -13224.3857,  -7756.2744]])\n",
      "tensor([ 121.4288, -129.2933])\n"
     ]
    }
   ],
   "source": [
    "# Compute gradients\n",
    "loss.backward()\n",
    "print(w.grad)\n",
    "print(b.grad)"
   ]
  },
  {
   "cell_type": "markdown",
   "metadata": {
    "id": "VcmscbUynTT5"
   },
   "source": [
    "Let's update the weights and biases using the gradients computed above."
   ]
  },
  {
   "cell_type": "code",
   "execution_count": 65,
   "metadata": {
    "id": "LTmQ0lZxnTT5"
   },
   "outputs": [],
   "source": [
    "# Adjust weights & reset gradients\n",
    "with torch.no_grad():\n",
    "    w -= w.grad * 1e-5\n",
    "    b -= b.grad * 1e-5\n",
    "    w.grad.zero_()\n",
    "    b.grad.zero_()"
   ]
  },
  {
   "cell_type": "markdown",
   "metadata": {
    "id": "-F1r5X7KnTT5"
   },
   "source": [
    "Let's take a look at the new weights and biases."
   ]
  },
  {
   "cell_type": "code",
   "execution_count": 66,
   "metadata": {
    "colab": {
     "base_uri": "https://localhost:8080/"
    },
    "id": "j9qYhF6PnTT5",
    "outputId": "5bed1535-7992-4138-b074-816d7e8767b8"
   },
   "outputs": [
    {
     "name": "stdout",
     "output_type": "stream",
     "text": [
      "tensor([[ 1.0372,  1.1774, -0.2359],\n",
      "        [ 0.8308, -1.0370,  0.1211]], requires_grad=True)\n",
      "tensor([ 0.8642, -0.8335], requires_grad=True)\n"
     ]
    }
   ],
   "source": [
    "print(w)\n",
    "print(b)"
   ]
  },
  {
   "cell_type": "markdown",
   "metadata": {
    "id": "71ByIRwZnTT5"
   },
   "source": [
    "With the new weights and biases, the model should have a lower loss."
   ]
  },
  {
   "cell_type": "code",
   "execution_count": 73,
   "metadata": {
    "colab": {
     "base_uri": "https://localhost:8080/"
    },
    "id": "Bm_tUN6WnTT5",
    "outputId": "0deeb851-e0c9-4070-b6aa-4763c61f762f"
   },
   "outputs": [
    {
     "name": "stdout",
     "output_type": "stream",
     "text": [
      "Loss before update: 18617.19140625\n",
      "Loss after  update: 13107.2548828125\n"
     ]
    }
   ],
   "source": [
    "# Calculate loss\n",
    "preds = model(inputs)\n",
    "loss = mse(preds, targets)\n",
    "loss_after_update = loss.item()\n",
    "print(f'Loss before update: {loss_at_init}')\n",
    "print(f'Loss after  update: {loss_after_update}')"
   ]
  },
  {
   "cell_type": "markdown",
   "metadata": {
    "id": "wWRxMxS9nTT5"
   },
   "source": [
    "We have already achieved a significant reduction in the loss merely by adjusting the weights and biases slightly using gradient descent."
   ]
  },
  {
   "cell_type": "markdown",
   "metadata": {
    "id": "ozXcGLatnTT5"
   },
   "source": [
    "##  Exercise 3: Gathering the update code in one function\n",
    "Assuming a set of `inputs,targets` annotations, perform a complete update of the model parameters `w,b`."
   ]
  },
  {
   "cell_type": "code",
   "execution_count": 79,
   "metadata": {
    "colab": {
     "base_uri": "https://localhost:8080/"
    },
    "id": "JI3JMBMDnTT5",
    "outputId": "d51192bd-2f6c-4f4d-e423-1eec07e592ac"
   },
   "outputs": [
    {
     "name": "stdout",
     "output_type": "stream",
     "text": [
      "Exercise 3: OK\n"
     ]
    }
   ],
   "source": [
    "debug = False\n",
    "\n",
    "def perform_one_update(inputs, targets, w, b):\n",
    "    preds = model(inputs)\n",
    "    loss = mse(preds, targets)\n",
    "    loss.backward()\n",
    "    with torch.no_grad():\n",
    "        w -= w.grad * 1e-5\n",
    "        b -= b.grad * 1e-5\n",
    "        w.grad.zero_()\n",
    "        b.grad.zero_()\n",
    "    \n",
    "\n",
    "def test_exercise3():   \n",
    "    model = exercise1()\n",
    "    preds = model(inputs)\n",
    "    loss = mse(preds, targets)\n",
    "    loss_at_init = loss.item()\n",
    "    perform_one_update(inputs, targets, w, b)\n",
    "    preds = model(inputs)\n",
    "    loss = mse(preds, targets)\n",
    "    loss_after_one_update = loss.item()\n",
    "    if  loss_after_one_update < loss_at_init:\n",
    "        print('Exercise 3: OK')\n",
    "    else:\n",
    "        print('Exercise 3: NOK')\n",
    "        if debug:\n",
    "            print(f'before update : {loss_at_init}')\n",
    "            print(f'after update : {loss_after_one_update}')\n",
    "  \n",
    "\n",
    "test_exercise3()\n"
   ]
  },
  {
   "cell_type": "markdown",
   "metadata": {
    "id": "TJCO8bIBA9oo"
   },
   "source": [
    "## Full-batch gradient descent\n",
    "To reduce the loss further, we can repeat the process of adjusting the weights and biases using the gradients multiple times. Each iteration is called an _epoch_. Let's train the model for 100 epochs."
   ]
  },
  {
   "cell_type": "code",
   "execution_count": 80,
   "metadata": {
    "id": "8mCLktv7A7m2"
   },
   "outputs": [],
   "source": [
    "def train_with_GD(inputs, targets, w, b, epochs=100):\n",
    "    for epoch in range(epochs):\n",
    "        perform_one_update(inputs, targets, w, b)\n",
    "  \n",
    "train_with_GD(inputs, targets, w, b, epochs=100)\n"
   ]
  },
  {
   "cell_type": "markdown",
   "metadata": {
    "id": "K6ifpLK_nTT5"
   },
   "source": [
    "Once again, let's verify that the loss is now lower:"
   ]
  },
  {
   "cell_type": "code",
   "execution_count": 81,
   "metadata": {
    "colab": {
     "base_uri": "https://localhost:8080/"
    },
    "id": "hyRTIcianTT5",
    "outputId": "a52e848b-b76e-4343-da51-354932956624"
   },
   "outputs": [
    {
     "name": "stdout",
     "output_type": "stream",
     "text": [
      "Loss at init: 18617.19140625\n",
      "Loss at the end: 533.44775390625\n"
     ]
    }
   ],
   "source": [
    "# Calculate loss\n",
    "preds = model(inputs)\n",
    "loss = mse(preds, targets)\n",
    "loss_after_all_epochs_of_GD = loss.item()\n",
    "print(f'Loss at init: {loss_at_init}')\n",
    "print(f'Loss at the end: {loss_after_all_epochs_of_GD}')"
   ]
  },
  {
   "cell_type": "markdown",
   "metadata": {
    "id": "ukdoSi6GnTT5"
   },
   "source": [
    "The loss is now much lower than its initial value. Let's look at the model's predictions and compare them with the targets."
   ]
  },
  {
   "cell_type": "code",
   "execution_count": 82,
   "metadata": {
    "colab": {
     "base_uri": "https://localhost:8080/"
    },
    "id": "iTLru5BEnTT5",
    "outputId": "34ea4a76-11f2-4249-fdc0-92829ca4e655"
   },
   "outputs": [
    {
     "data": {
      "text/plain": [
       "tensor([[ 62.1546,  79.1335],\n",
       "        [ 77.2815, 105.5760],\n",
       "        [121.8764, 107.6118],\n",
       "        [ 48.4121,  89.0070],\n",
       "        [ 77.5716,  97.1679]], grad_fn=<AddBackward0>)"
      ]
     },
     "execution_count": 82,
     "metadata": {},
     "output_type": "execute_result"
    }
   ],
   "source": [
    "# Predictions\n",
    "preds"
   ]
  },
  {
   "cell_type": "code",
   "execution_count": 83,
   "metadata": {
    "colab": {
     "base_uri": "https://localhost:8080/"
    },
    "id": "Rr6ziSibnTT6",
    "outputId": "af2c82cb-2346-4503-cd49-2aeb49dab713"
   },
   "outputs": [
    {
     "data": {
      "text/plain": [
       "tensor([[ 56.,  70.],\n",
       "        [ 81., 101.],\n",
       "        [119., 133.],\n",
       "        [ 22.,  37.],\n",
       "        [103., 119.]])"
      ]
     },
     "execution_count": 83,
     "metadata": {},
     "output_type": "execute_result"
    }
   ],
   "source": [
    "# Targets\n",
    "targets"
   ]
  },
  {
   "cell_type": "markdown",
   "metadata": {
    "id": "y_N5rDgdnTT6"
   },
   "source": [
    "The predictions are now quite close to the target variables. We can get even better results by training for a few more epochs. "
   ]
  },
  {
   "cell_type": "markdown",
   "metadata": {
    "id": "wjxeDlC9iuUp"
   },
   "source": [
    "## Exercise 4: Implement Linear regression with SGD (instead of full batch GD)\n",
    "In this exercise, you will implement SGD for the regression problem at hand. And you should notice that for 100 epochs, and the same initialization:\n",
    "* SGD reaches a better loss than GD\n",
    "* each epoch of SGD is slower than for GD because of lower parallelism\n",
    "\n",
    "You can also implement SGD with Minibatch and verify it provides a trade-off between the loss and computation time."
   ]
  },
  {
   "cell_type": "code",
   "execution_count": 85,
   "metadata": {
    "cellView": "form",
    "id": "LW1yo_A0ISgb"
   },
   "outputs": [],
   "source": [
    "#@title  New dataset\n",
    "# Input (temp, rainfall, humidity)\n",
    "inputs = np.array([[73, 67, 43], \n",
    "                   [91, 88, 64], \n",
    "                   [87, 134, 58], \n",
    "                   [102, 43, 37], \n",
    "                   [69, 96, 70], \n",
    "                   [74, 66, 43], \n",
    "                   [91, 87, 65], \n",
    "                   [88, 134, 59], \n",
    "                   [101, 44, 37], \n",
    "                   [68, 96, 71], \n",
    "                   [73, 66, 44], \n",
    "                   [92, 87, 64], \n",
    "                   [87, 135, 57], \n",
    "                   [103, 43, 36], \n",
    "                   [68, 97, 70]], \n",
    "                  dtype='float32')\n",
    "\n",
    "# Targets (apples, oranges)\n",
    "targets = np.array([[56, 70], \n",
    "                    [81, 101], \n",
    "                    [119, 133], \n",
    "                    [22, 37], \n",
    "                    [103, 119],\n",
    "                    [57, 69], \n",
    "                    [80, 102], \n",
    "                    [118, 132], \n",
    "                    [21, 38], \n",
    "                    [104, 118], \n",
    "                    [57, 69], \n",
    "                    [82, 100], \n",
    "                    [118, 134], \n",
    "                    [20, 38], \n",
    "                    [102, 120]], \n",
    "                   dtype='float32')\n",
    "\n",
    "inputs = torch.from_numpy(inputs)\n",
    "targets = torch.from_numpy(targets)"
   ]
  },
  {
   "cell_type": "code",
   "execution_count": 99,
   "metadata": {
    "colab": {
     "base_uri": "https://localhost:8080/"
    },
    "id": "EaBNnEo6jKEn",
    "outputId": "e32d5378-abec-41bf-9fb9-5f30a5203b21"
   },
   "outputs": [
    {
     "name": "stdout",
     "output_type": "stream",
     "text": [
      "Loss at init of  GD: 16225.15625\n",
      "Loss after 100 epochs of GD: 1190.6666259765625\n",
      "Loss at init of SGD: 16225.15625\n",
      "Loss after 100 epochs of SGD: 1191.3359375\n"
     ]
    },
    {
     "ename": "Exception",
     "evalue": "You need to implement the function train_with_minibatchSGD",
     "output_type": "error",
     "traceback": [
      "\u001b[0;31m---------------------------------------------------------------------------\u001b[0m",
      "\u001b[0;31mException\u001b[0m                                 Traceback (most recent call last)",
      "\u001b[0;32m<ipython-input-99-ce32b6f4207e>\u001b[0m in \u001b[0;36m<module>\u001b[0;34m\u001b[0m\n\u001b[1;32m     54\u001b[0m     \u001b[0mget_ipython\u001b[0m\u001b[0;34m(\u001b[0m\u001b[0;34m)\u001b[0m\u001b[0;34m.\u001b[0m\u001b[0mrun_line_magic\u001b[0m\u001b[0;34m(\u001b[0m\u001b[0;34m'time'\u001b[0m\u001b[0;34m,\u001b[0m \u001b[0;34m\"run_method_and_return_loss('mini', w0, b0)\"\u001b[0m\u001b[0;34m)\u001b[0m\u001b[0;34m\u001b[0m\u001b[0;34m\u001b[0m\u001b[0m\n\u001b[1;32m     55\u001b[0m \u001b[0;34m\u001b[0m\u001b[0m\n\u001b[0;32m---> 56\u001b[0;31m \u001b[0mtest_exercise4\u001b[0m\u001b[0;34m(\u001b[0m\u001b[0;34m)\u001b[0m\u001b[0;34m\u001b[0m\u001b[0;34m\u001b[0m\u001b[0m\n\u001b[0m",
      "\u001b[0;32m<ipython-input-99-ce32b6f4207e>\u001b[0m in \u001b[0;36mtest_exercise4\u001b[0;34m()\u001b[0m\n\u001b[1;32m     43\u001b[0m     \u001b[0mprint\u001b[0m\u001b[0;34m(\u001b[0m\u001b[0;34mf'Loss at init of SGD: {loss_at_init}'\u001b[0m\u001b[0;34m)\u001b[0m\u001b[0;34m\u001b[0m\u001b[0;34m\u001b[0m\u001b[0m\n\u001b[1;32m     44\u001b[0m     \u001b[0mprint\u001b[0m\u001b[0;34m(\u001b[0m\u001b[0;34mf'Loss after 100 epochs of SGD: {loss_at_end}'\u001b[0m\u001b[0;34m)\u001b[0m\u001b[0;34m\u001b[0m\u001b[0;34m\u001b[0m\u001b[0m\n\u001b[0;32m---> 45\u001b[0;31m     \u001b[0mloss_at_init\u001b[0m\u001b[0;34m,\u001b[0m \u001b[0mloss_at_end\u001b[0m \u001b[0;34m=\u001b[0m \u001b[0mrun_method_and_return_loss\u001b[0m\u001b[0;34m(\u001b[0m\u001b[0;34m'mini'\u001b[0m\u001b[0;34m,\u001b[0m \u001b[0mw0\u001b[0m\u001b[0;34m,\u001b[0m \u001b[0mb0\u001b[0m\u001b[0;34m)\u001b[0m\u001b[0;34m\u001b[0m\u001b[0;34m\u001b[0m\u001b[0m\n\u001b[0m\u001b[1;32m     46\u001b[0m     \u001b[0mprint\u001b[0m\u001b[0;34m(\u001b[0m\u001b[0;34mf'Loss at init of miniSGD: {loss_at_init}'\u001b[0m\u001b[0;34m)\u001b[0m\u001b[0;34m\u001b[0m\u001b[0;34m\u001b[0m\u001b[0m\n\u001b[1;32m     47\u001b[0m     \u001b[0mprint\u001b[0m\u001b[0;34m(\u001b[0m\u001b[0;34mf'Loss after 100 epochs of miniSGD: {loss_at_end}'\u001b[0m\u001b[0;34m)\u001b[0m\u001b[0;34m\u001b[0m\u001b[0;34m\u001b[0m\u001b[0m\n",
      "\u001b[0;32m<ipython-input-99-ce32b6f4207e>\u001b[0m in \u001b[0;36mrun_method_and_return_loss\u001b[0;34m(method, w0, b0)\u001b[0m\n\u001b[1;32m     27\u001b[0m         \u001b[0mloss_at_init\u001b[0m \u001b[0;34m=\u001b[0m \u001b[0mmse\u001b[0m\u001b[0;34m(\u001b[0m\u001b[0mpreds\u001b[0m\u001b[0;34m,\u001b[0m \u001b[0mtargets\u001b[0m\u001b[0;34m)\u001b[0m\u001b[0;34m.\u001b[0m\u001b[0mitem\u001b[0m\u001b[0;34m(\u001b[0m\u001b[0;34m)\u001b[0m\u001b[0;34m\u001b[0m\u001b[0;34m\u001b[0m\u001b[0m\n\u001b[1;32m     28\u001b[0m     \u001b[0;31m# perform  for  100 epochs\u001b[0m\u001b[0;34m\u001b[0m\u001b[0;34m\u001b[0m\u001b[0;34m\u001b[0m\u001b[0m\n\u001b[0;32m---> 29\u001b[0;31m     \u001b[0mtrain_function\u001b[0m\u001b[0;34m(\u001b[0m\u001b[0minputs\u001b[0m\u001b[0;34m,\u001b[0m \u001b[0mtargets\u001b[0m\u001b[0;34m,\u001b[0m \u001b[0mw\u001b[0m\u001b[0;34m,\u001b[0m \u001b[0mb\u001b[0m\u001b[0;34m,\u001b[0m \u001b[0mepochs\u001b[0m\u001b[0;34m=\u001b[0m\u001b[0;36m100\u001b[0m\u001b[0;34m,\u001b[0m \u001b[0;34m**\u001b[0m\u001b[0mkwargs\u001b[0m\u001b[0;34m)\u001b[0m\u001b[0;34m\u001b[0m\u001b[0;34m\u001b[0m\u001b[0m\n\u001b[0m\u001b[1;32m     30\u001b[0m     \u001b[0;32mwith\u001b[0m \u001b[0mtorch\u001b[0m\u001b[0;34m.\u001b[0m\u001b[0mno_grad\u001b[0m\u001b[0;34m(\u001b[0m\u001b[0;34m)\u001b[0m\u001b[0;34m:\u001b[0m\u001b[0;34m\u001b[0m\u001b[0;34m\u001b[0m\u001b[0m\n\u001b[1;32m     31\u001b[0m         \u001b[0mpreds\u001b[0m \u001b[0;34m=\u001b[0m \u001b[0mmodel\u001b[0m\u001b[0;34m(\u001b[0m\u001b[0minputs\u001b[0m\u001b[0;34m)\u001b[0m\u001b[0;34m\u001b[0m\u001b[0;34m\u001b[0m\u001b[0m\n",
      "\u001b[0;32m<ipython-input-99-ce32b6f4207e>\u001b[0m in \u001b[0;36mtrain_with_minibatchSGD\u001b[0;34m(inputs, targets, w, b, epochs, bs)\u001b[0m\n\u001b[1;32m      7\u001b[0m \u001b[0;34m\u001b[0m\u001b[0m\n\u001b[1;32m      8\u001b[0m \u001b[0;32mdef\u001b[0m \u001b[0mtrain_with_minibatchSGD\u001b[0m\u001b[0;34m(\u001b[0m\u001b[0minputs\u001b[0m\u001b[0;34m,\u001b[0m \u001b[0mtargets\u001b[0m\u001b[0;34m,\u001b[0m \u001b[0mw\u001b[0m\u001b[0;34m,\u001b[0m \u001b[0mb\u001b[0m\u001b[0;34m,\u001b[0m \u001b[0mepochs\u001b[0m\u001b[0;34m=\u001b[0m\u001b[0;36m100\u001b[0m\u001b[0;34m,\u001b[0m \u001b[0mbs\u001b[0m\u001b[0;34m=\u001b[0m\u001b[0;34m-\u001b[0m\u001b[0;36m1\u001b[0m\u001b[0;34m)\u001b[0m\u001b[0;34m:\u001b[0m\u001b[0;34m\u001b[0m\u001b[0;34m\u001b[0m\u001b[0m\n\u001b[0;32m----> 9\u001b[0;31m     \u001b[0;32mraise\u001b[0m \u001b[0mException\u001b[0m\u001b[0;34m(\u001b[0m\u001b[0;34m'You need to implement the function train_with_minibatchSGD'\u001b[0m\u001b[0;34m)\u001b[0m\u001b[0;34m\u001b[0m\u001b[0;34m\u001b[0m\u001b[0m\n\u001b[0m\u001b[1;32m     10\u001b[0m \u001b[0;34m\u001b[0m\u001b[0m\n\u001b[1;32m     11\u001b[0m \u001b[0;32mdef\u001b[0m \u001b[0mrun_method_and_return_loss\u001b[0m\u001b[0;34m(\u001b[0m\u001b[0mmethod\u001b[0m\u001b[0;34m,\u001b[0m \u001b[0mw0\u001b[0m\u001b[0;34m,\u001b[0m \u001b[0mb0\u001b[0m\u001b[0;34m)\u001b[0m\u001b[0;34m:\u001b[0m\u001b[0;34m\u001b[0m\u001b[0;34m\u001b[0m\u001b[0m\n",
      "\u001b[0;31mException\u001b[0m: You need to implement the function train_with_minibatchSGD"
     ]
    }
   ],
   "source": [
    "#@title Adapt the train_with_GD into train_with_SGD : you should observe that the SGD algorithm is more efficient than GD\n",
    "def train_with_SGD(inputs, targets, w, b, epochs=100):\n",
    "    for epoch in range(epochs):\n",
    "        np.random.shuffle(inputs) #PAS SHUFFLE INPUT MAIS LES INDICES SINON INPUTS MATCH PLUS AVEC TARGETS \n",
    "        for i in range(0,inputs.shape[0]):\n",
    "            perform_one_update(inputs[i], targets[i], w, b)\n",
    "    \n",
    "def train_with_minibatchSGD(inputs, targets, w, b, epochs=100, bs=-1):\n",
    "    raise Exception('You need to implement the function train_with_minibatchSGD')\n",
    "                \n",
    "def run_method_and_return_loss(method, w0, b0):\n",
    "    kwargs={}\n",
    "    if method=='SGD':\n",
    "        train_function = train_with_SGD\n",
    "    elif(method=='mini'):\n",
    "        train_function = train_with_minibatchSGD        \n",
    "        kwargs['bs'] = 4\n",
    "    else:\n",
    "        train_function = train_with_GD\n",
    "    global w, b\n",
    "    w = w0.clone().requires_grad_()\n",
    "    b = b0.clone().requires_grad_()\n",
    "    def model(inputs):\n",
    "        return inputs @ w.t() +  b\n",
    "    with torch.no_grad():\n",
    "        preds = model(inputs)\n",
    "        loss_at_init = mse(preds, targets).item()\n",
    "    # perform  for  100 epochs\n",
    "    train_function(inputs, targets, w, b, epochs=100, **kwargs)\n",
    "    with torch.no_grad():\n",
    "        preds = model(inputs)\n",
    "        loss_at_end = mse(preds, targets).item()\n",
    "    return loss_at_init, loss_at_end\n",
    "\n",
    "def test_exercise4():\n",
    "    # init weights and biases\n",
    "    w0 = torch.randn(2,3)\n",
    "    b0 = torch.randn(2)\n",
    "    loss_at_init, loss_at_end = run_method_and_return_loss('GD', w0, b0)\n",
    "    print(f'Loss at init of  GD: {loss_at_init}')\n",
    "    print(f'Loss after 100 epochs of GD: {loss_at_end}')\n",
    "    loss_at_init, loss_at_end = run_method_and_return_loss('SGD', w0, b0)\n",
    "    print(f'Loss at init of SGD: {loss_at_init}')\n",
    "    print(f'Loss after 100 epochs of SGD: {loss_at_end}')\n",
    "    loss_at_init, loss_at_end = run_method_and_return_loss('mini', w0, b0)\n",
    "    print(f'Loss at init of miniSGD: {loss_at_init}')\n",
    "    print(f'Loss after 100 epochs of miniSGD: {loss_at_end}')\n",
    "    print('What\\'s the catch ?')\n",
    "    print('=======================Profiling GD=======================')\n",
    "    %time run_method_and_return_loss('GD', w0, b0)\n",
    "    print('=======================Profiling SGD======================')\n",
    "    %time run_method_and_return_loss('SGD', w0, b0)\n",
    "    print('=====================Profiling mini SGD===================')\n",
    "    %time run_method_and_return_loss('mini', w0, b0)\n",
    "\n",
    "test_exercise4()\n"
   ]
  },
  {
   "cell_type": "markdown",
   "metadata": {},
   "source": [
    "## Exercise 5: Other optimization variants\n",
    "\n",
    "If you finish early enough you can also consider implementing the following extensions:\n",
    "* momentum (a.k.a heavy ball)\n",
    "* Nesterov acceleration\n",
    "* ADAM\n",
    "\n",
    "\n",
    "You can also experiment with so-called `weight decay` (which is merely an L$^2$ regularization on the weight matrix $W$).\n",
    "\n",
    "For all variants, you should investigate its impact on \n",
    "* convergence speed (in terms of loss), \n",
    "* computational burden of each epoch\n",
    "\n",
    "In real examples (by opposition to this toy example) you should also investigate generalization (regression loss on a hold-out set)."
   ]
  },
  {
   "cell_type": "code",
   "execution_count": 83,
   "metadata": {},
   "outputs": [
    {
     "name": "stdout",
     "output_type": "stream",
     "text": [
      "Loss at init of  SGD: 28292.6953125\n",
      "Loss after 100 epochs of SGD: 2.2992875576019287\n",
      "Loss at init of  Momentum: 28292.6953125\n",
      "Loss after 100 epochs of Momentum: 1.1301101446151733\n",
      "Loss at init of  Nesterov: 28292.6953125\n",
      "Loss after 100 epochs of Nesterov: 1.1042059659957886\n",
      "=======================Profiling SGD=======================\n",
      "CPU times: user 224 ms, sys: 1.4 ms, total: 226 ms\n",
      "Wall time: 226 ms\n",
      "=======================Profiling momentum=======================\n",
      "CPU times: user 249 ms, sys: 1.23 ms, total: 250 ms\n",
      "Wall time: 250 ms\n",
      "=======================Profiling nesterov=======================\n",
      "CPU times: user 271 ms, sys: 1.09 ms, total: 272 ms\n",
      "Wall time: 272 ms\n"
     ]
    }
   ],
   "source": [
    "class OptimSGD:\n",
    "    def __init__(self, w, b):\n",
    "        self.w = w\n",
    "        self.b = b\n",
    "        def model(inputs):\n",
    "            return inputs @ w.t() +  b\n",
    "        self.model = model\n",
    "        self.deltaw_prev = torch.zeros_like(w)\n",
    "        self.deltab_prev = torch.zeros_like(b)\n",
    "    \n",
    "    def step(self, inputs, targets):\n",
    "        preds = self.model(inputs)\n",
    "        loss = mse(preds, targets)\n",
    "        loss.backward()\n",
    "        delta_w = w.grad * 1e-5\n",
    "        delta_b = b.grad * 1e-5\n",
    "        with torch.no_grad():\n",
    "            self.w -= delta_w\n",
    "            self.b -= delta_b\n",
    "            self.w.grad.zero_()\n",
    "            self.b.grad.zero_()\n",
    "        self.update_deltas(delta_w, delta_b)\n",
    "            \n",
    "    def update_deltas(self, delta_w, delta_b):\n",
    "        self.deltaw_prev.copy_(delta_w)\n",
    "        self.deltab_prev.copy_(delta_b)\n",
    "\n",
    "\n",
    "class OptimMomentum(OptimSGD):\n",
    "    def __init__(self, w, b, gamma):\n",
    "        super().__init__(w, b)\n",
    "        self.gamma = gamma\n",
    "    \n",
    "    def step(self, inputs, targets):\n",
    "        raise Exception('You need to implement the function OptimMomentum::step()')\n",
    "\n",
    "\n",
    "class OptimNesterov(OptimSGD):\n",
    "    def __init__(self, w, b, gamma):\n",
    "        super().__init__(w, b)\n",
    "        self.gamma = gamma\n",
    "        \n",
    "    def step(self, inputs, targets):        \n",
    "        raise Exception('You need to implement the function OptimMomentum::step()')\n",
    "\n",
    "def optim_factory(method, w, b):\n",
    "    if method == 'SGD':\n",
    "        return OptimSGD(w,b)\n",
    "    \n",
    "    elif method == 'momentum':\n",
    "        return OptimMomentum(w,b, gamma= 1e-1)\n",
    "    \n",
    "    elif method == 'nesterov':\n",
    "        return OptimNesterov(w,b, gamma= 1e-1)\n",
    "\n",
    "    \n",
    "def train_with_minibatchSGD(method, inputs, targets, w, b, epochs=100, bs=-1):\n",
    "    optim = optim_factory(method, w, b)\n",
    "    nsamples = inputs.shape[0]\n",
    "    if bs == -1: \n",
    "        bs = nsamples\n",
    "    nb_batches = int(nsamples/bs)\n",
    "    for epoch in range(epochs):\n",
    "        shuffled_indices = torch.randperm(nsamples)\n",
    "        batches = torch.chunk(shuffled_indices, nb_batches)\n",
    "        for batch in batches:\n",
    "            optim.step(inputs[batch], targets[batch])\n",
    "            \n",
    "def run_method_and_return_loss(method, w0, b0):\n",
    "    global w, b\n",
    "    w = w0.clone().requires_grad_()\n",
    "    b = b0.clone().requires_grad_()\n",
    "    with torch.no_grad():\n",
    "        preds = model(inputs)\n",
    "        loss_at_init = mse(preds, targets).item()\n",
    "    # perform  for  100 epochs\n",
    "    train_with_minibatchSGD(method, inputs, targets, w, b, epochs=100, bs=1)\n",
    "    with torch.no_grad():\n",
    "        preds = model(inputs)\n",
    "        loss_at_end = mse(preds, targets).item()\n",
    "    return loss_at_init, loss_at_end\n",
    "\n",
    "\n",
    "def test_exercise5():\n",
    "    # init weights and biases\n",
    "    w0 = torch.randn(2,3)\n",
    "    b0 = torch.randn(2)\n",
    "    loss_at_init, loss_at_end = run_method_and_return_loss('SGD', w0, b0)\n",
    "    print(f'Loss at init of  SGD: {loss_at_init}')\n",
    "    print(f'Loss after 100 epochs of SGD: {loss_at_end}')\n",
    "    loss_at_init, loss_at_end = run_method_and_return_loss('momentum', w0, b0)\n",
    "    print(f'Loss at init of  Momentum: {loss_at_init}')\n",
    "    print(f'Loss after 100 epochs of Momentum: {loss_at_end}')\n",
    "    loss_at_init, loss_at_end = run_method_and_return_loss('nesterov', w0, b0)\n",
    "    print(f'Loss at init of  Nesterov: {loss_at_init}')\n",
    "    print(f'Loss after 100 epochs of Nesterov: {loss_at_end}')\n",
    "    print('=======================Profiling SGD=======================')\n",
    "    %time run_method_and_return_loss('SGD', w0, b0)\n",
    "    print('=======================Profiling momentum=======================')\n",
    "    %time run_method_and_return_loss('momentum', w0, b0)\n",
    "    print('=======================Profiling nesterov=======================')\n",
    "    %time run_method_and_return_loss('nesterov', w0, b0)\n",
    "   \n",
    "test_exercise5()"
   ]
  },
  {
   "cell_type": "code",
   "execution_count": null,
   "metadata": {},
   "outputs": [],
   "source": []
  }
 ],
 "metadata": {
  "accelerator": "GPU",
  "colab": {
   "collapsed_sections": [
    "NiRuJPJEpTbT",
    "s3IqanhvnTT1",
    "gQF2EGB482Rh",
    "7JTLBcHKnTT4",
    "IwThOdeCnTT4"
   ],
   "name": "DL_lab_3AISIA.ipynb",
   "provenance": []
  },
  "kernelspec": {
   "display_name": "Python 3",
   "language": "python",
   "name": "python3"
  },
  "language_info": {
   "codemirror_mode": {
    "name": "ipython",
    "version": 3
   },
   "file_extension": ".py",
   "mimetype": "text/x-python",
   "name": "python",
   "nbconvert_exporter": "python",
   "pygments_lexer": "ipython3",
   "version": "3.8.10"
  },
  "widgets": {
   "application/vnd.jupyter.widget-state+json": {
    "0c05cfd2f2fe43f4be35847c5fccdd8a": {
     "model_module": "@jupyter-widgets/controls",
     "model_module_version": "1.5.0",
     "model_name": "HTMLModel",
     "state": {
      "_dom_classes": [],
      "_model_module": "@jupyter-widgets/controls",
      "_model_module_version": "1.5.0",
      "_model_name": "HTMLModel",
      "_view_count": null,
      "_view_module": "@jupyter-widgets/controls",
      "_view_module_version": "1.5.0",
      "_view_name": "HTMLView",
      "description": "",
      "description_tooltip": null,
      "layout": "IPY_MODEL_6d8cfdfa16424b5689d7df1d92bf4e60",
      "placeholder": "​",
      "style": "IPY_MODEL_0d62c0faf90d4fa48ca70ed3cf031000",
      "value": " 29515/29515 [00:00&lt;00:00, 146550.86it/s]"
     }
    },
    "0d62c0faf90d4fa48ca70ed3cf031000": {
     "model_module": "@jupyter-widgets/controls",
     "model_module_version": "1.5.0",
     "model_name": "DescriptionStyleModel",
     "state": {
      "_model_module": "@jupyter-widgets/controls",
      "_model_module_version": "1.5.0",
      "_model_name": "DescriptionStyleModel",
      "_view_count": null,
      "_view_module": "@jupyter-widgets/base",
      "_view_module_version": "1.2.0",
      "_view_name": "StyleView",
      "description_width": ""
     }
    },
    "1572d205b00f4d9da7946807d9603786": {
     "model_module": "@jupyter-widgets/controls",
     "model_module_version": "1.5.0",
     "model_name": "HTMLModel",
     "state": {
      "_dom_classes": [],
      "_model_module": "@jupyter-widgets/controls",
      "_model_module_version": "1.5.0",
      "_model_name": "HTMLModel",
      "_view_count": null,
      "_view_module": "@jupyter-widgets/controls",
      "_view_module_version": "1.5.0",
      "_view_name": "HTMLView",
      "description": "",
      "description_tooltip": null,
      "layout": "IPY_MODEL_5d5464ed2edf4641b8ff9f0642694ba2",
      "placeholder": "​",
      "style": "IPY_MODEL_e70f2141e8fb4aa9894429829edfb6e8",
      "value": " 4422102/4422102 [00:01&lt;00:00, 4522477.08it/s]"
     }
    },
    "1caeffd9ecd74f63a09ce1cc57c4fdf5": {
     "model_module": "@jupyter-widgets/controls",
     "model_module_version": "1.5.0",
     "model_name": "HBoxModel",
     "state": {
      "_dom_classes": [],
      "_model_module": "@jupyter-widgets/controls",
      "_model_module_version": "1.5.0",
      "_model_name": "HBoxModel",
      "_view_count": null,
      "_view_module": "@jupyter-widgets/controls",
      "_view_module_version": "1.5.0",
      "_view_name": "HBoxView",
      "box_style": "",
      "children": [
       "IPY_MODEL_e2b74b0e552a433fb15b623b6de4d667",
       "IPY_MODEL_edb44bf0be274565836d675a9e33452c",
       "IPY_MODEL_1572d205b00f4d9da7946807d9603786"
      ],
      "layout": "IPY_MODEL_dc4c5d99760c416bbad7ca9ee55a1935"
     }
    },
    "1f02957db1864369817f7872153b4379": {
     "model_module": "@jupyter-widgets/controls",
     "model_module_version": "1.5.0",
     "model_name": "HTMLModel",
     "state": {
      "_dom_classes": [],
      "_model_module": "@jupyter-widgets/controls",
      "_model_module_version": "1.5.0",
      "_model_name": "HTMLModel",
      "_view_count": null,
      "_view_module": "@jupyter-widgets/controls",
      "_view_module_version": "1.5.0",
      "_view_name": "HTMLView",
      "description": "",
      "description_tooltip": null,
      "layout": "IPY_MODEL_4a9afca4ea354ff29e2ad0847f4d536d",
      "placeholder": "​",
      "style": "IPY_MODEL_eee8eee6cb0f4d53ad8bc0dfae15fcfa",
      "value": "100%"
     }
    },
    "263b0a37864d4eb9a89459590926b178": {
     "model_module": "@jupyter-widgets/controls",
     "model_module_version": "1.5.0",
     "model_name": "DescriptionStyleModel",
     "state": {
      "_model_module": "@jupyter-widgets/controls",
      "_model_module_version": "1.5.0",
      "_model_name": "DescriptionStyleModel",
      "_view_count": null,
      "_view_module": "@jupyter-widgets/base",
      "_view_module_version": "1.2.0",
      "_view_name": "StyleView",
      "description_width": ""
     }
    },
    "28247583bf51419685ea9c0ae03a5307": {
     "model_module": "@jupyter-widgets/controls",
     "model_module_version": "1.5.0",
     "model_name": "DescriptionStyleModel",
     "state": {
      "_model_module": "@jupyter-widgets/controls",
      "_model_module_version": "1.5.0",
      "_model_name": "DescriptionStyleModel",
      "_view_count": null,
      "_view_module": "@jupyter-widgets/base",
      "_view_module_version": "1.2.0",
      "_view_name": "StyleView",
      "description_width": ""
     }
    },
    "3d9e5355329242a5aff0a5d32d1b8467": {
     "model_module": "@jupyter-widgets/controls",
     "model_module_version": "1.5.0",
     "model_name": "HBoxModel",
     "state": {
      "_dom_classes": [],
      "_model_module": "@jupyter-widgets/controls",
      "_model_module_version": "1.5.0",
      "_model_name": "HBoxModel",
      "_view_count": null,
      "_view_module": "@jupyter-widgets/controls",
      "_view_module_version": "1.5.0",
      "_view_name": "HBoxView",
      "box_style": "",
      "children": [
       "IPY_MODEL_848f13844de64093b36c8ead5718b8db",
       "IPY_MODEL_59dcda32b2584e9c8a51dae601e56dfd",
       "IPY_MODEL_82139531b34b4cd78446558721da2426"
      ],
      "layout": "IPY_MODEL_ad2318d739134fb5b9bc9abaca670e25"
     }
    },
    "3e32b06b69c74f1099874b3f23efea92": {
     "model_module": "@jupyter-widgets/controls",
     "model_module_version": "1.5.0",
     "model_name": "ProgressStyleModel",
     "state": {
      "_model_module": "@jupyter-widgets/controls",
      "_model_module_version": "1.5.0",
      "_model_name": "ProgressStyleModel",
      "_view_count": null,
      "_view_module": "@jupyter-widgets/base",
      "_view_module_version": "1.2.0",
      "_view_name": "StyleView",
      "bar_color": null,
      "description_width": ""
     }
    },
    "3e84e9067d35438893295e8bb2802c9a": {
     "model_module": "@jupyter-widgets/controls",
     "model_module_version": "1.5.0",
     "model_name": "HTMLModel",
     "state": {
      "_dom_classes": [],
      "_model_module": "@jupyter-widgets/controls",
      "_model_module_version": "1.5.0",
      "_model_name": "HTMLModel",
      "_view_count": null,
      "_view_module": "@jupyter-widgets/controls",
      "_view_module_version": "1.5.0",
      "_view_name": "HTMLView",
      "description": "",
      "description_tooltip": null,
      "layout": "IPY_MODEL_d384acef13bd416fa73c6b0dd8288992",
      "placeholder": "​",
      "style": "IPY_MODEL_78d8bc4ea70d4ab88292166cd1abde07",
      "value": " 26421880/26421880 [00:03&lt;00:00, 13818449.36it/s]"
     }
    },
    "4a9afca4ea354ff29e2ad0847f4d536d": {
     "model_module": "@jupyter-widgets/base",
     "model_module_version": "1.2.0",
     "model_name": "LayoutModel",
     "state": {
      "_model_module": "@jupyter-widgets/base",
      "_model_module_version": "1.2.0",
      "_model_name": "LayoutModel",
      "_view_count": null,
      "_view_module": "@jupyter-widgets/base",
      "_view_module_version": "1.2.0",
      "_view_name": "LayoutView",
      "align_content": null,
      "align_items": null,
      "align_self": null,
      "border": null,
      "bottom": null,
      "display": null,
      "flex": null,
      "flex_flow": null,
      "grid_area": null,
      "grid_auto_columns": null,
      "grid_auto_flow": null,
      "grid_auto_rows": null,
      "grid_column": null,
      "grid_gap": null,
      "grid_row": null,
      "grid_template_areas": null,
      "grid_template_columns": null,
      "grid_template_rows": null,
      "height": null,
      "justify_content": null,
      "justify_items": null,
      "left": null,
      "margin": null,
      "max_height": null,
      "max_width": null,
      "min_height": null,
      "min_width": null,
      "object_fit": null,
      "object_position": null,
      "order": null,
      "overflow": null,
      "overflow_x": null,
      "overflow_y": null,
      "padding": null,
      "right": null,
      "top": null,
      "visibility": null,
      "width": null
     }
    },
    "59dcda32b2584e9c8a51dae601e56dfd": {
     "model_module": "@jupyter-widgets/controls",
     "model_module_version": "1.5.0",
     "model_name": "FloatProgressModel",
     "state": {
      "_dom_classes": [],
      "_model_module": "@jupyter-widgets/controls",
      "_model_module_version": "1.5.0",
      "_model_name": "FloatProgressModel",
      "_view_count": null,
      "_view_module": "@jupyter-widgets/controls",
      "_view_module_version": "1.5.0",
      "_view_name": "ProgressView",
      "bar_style": "success",
      "description": "",
      "description_tooltip": null,
      "layout": "IPY_MODEL_6b9bb328c29144429a1437a8a1041876",
      "max": 5148,
      "min": 0,
      "orientation": "horizontal",
      "style": "IPY_MODEL_9b742f6660ca455ea6d2731b2182e3cb",
      "value": 5148
     }
    },
    "5d5464ed2edf4641b8ff9f0642694ba2": {
     "model_module": "@jupyter-widgets/base",
     "model_module_version": "1.2.0",
     "model_name": "LayoutModel",
     "state": {
      "_model_module": "@jupyter-widgets/base",
      "_model_module_version": "1.2.0",
      "_model_name": "LayoutModel",
      "_view_count": null,
      "_view_module": "@jupyter-widgets/base",
      "_view_module_version": "1.2.0",
      "_view_name": "LayoutView",
      "align_content": null,
      "align_items": null,
      "align_self": null,
      "border": null,
      "bottom": null,
      "display": null,
      "flex": null,
      "flex_flow": null,
      "grid_area": null,
      "grid_auto_columns": null,
      "grid_auto_flow": null,
      "grid_auto_rows": null,
      "grid_column": null,
      "grid_gap": null,
      "grid_row": null,
      "grid_template_areas": null,
      "grid_template_columns": null,
      "grid_template_rows": null,
      "height": null,
      "justify_content": null,
      "justify_items": null,
      "left": null,
      "margin": null,
      "max_height": null,
      "max_width": null,
      "min_height": null,
      "min_width": null,
      "object_fit": null,
      "object_position": null,
      "order": null,
      "overflow": null,
      "overflow_x": null,
      "overflow_y": null,
      "padding": null,
      "right": null,
      "top": null,
      "visibility": null,
      "width": null
     }
    },
    "65424f2e9da944c589e2f6961e082a51": {
     "model_module": "@jupyter-widgets/controls",
     "model_module_version": "1.5.0",
     "model_name": "DescriptionStyleModel",
     "state": {
      "_model_module": "@jupyter-widgets/controls",
      "_model_module_version": "1.5.0",
      "_model_name": "DescriptionStyleModel",
      "_view_count": null,
      "_view_module": "@jupyter-widgets/base",
      "_view_module_version": "1.2.0",
      "_view_name": "StyleView",
      "description_width": ""
     }
    },
    "6b9bb328c29144429a1437a8a1041876": {
     "model_module": "@jupyter-widgets/base",
     "model_module_version": "1.2.0",
     "model_name": "LayoutModel",
     "state": {
      "_model_module": "@jupyter-widgets/base",
      "_model_module_version": "1.2.0",
      "_model_name": "LayoutModel",
      "_view_count": null,
      "_view_module": "@jupyter-widgets/base",
      "_view_module_version": "1.2.0",
      "_view_name": "LayoutView",
      "align_content": null,
      "align_items": null,
      "align_self": null,
      "border": null,
      "bottom": null,
      "display": null,
      "flex": null,
      "flex_flow": null,
      "grid_area": null,
      "grid_auto_columns": null,
      "grid_auto_flow": null,
      "grid_auto_rows": null,
      "grid_column": null,
      "grid_gap": null,
      "grid_row": null,
      "grid_template_areas": null,
      "grid_template_columns": null,
      "grid_template_rows": null,
      "height": null,
      "justify_content": null,
      "justify_items": null,
      "left": null,
      "margin": null,
      "max_height": null,
      "max_width": null,
      "min_height": null,
      "min_width": null,
      "object_fit": null,
      "object_position": null,
      "order": null,
      "overflow": null,
      "overflow_x": null,
      "overflow_y": null,
      "padding": null,
      "right": null,
      "top": null,
      "visibility": null,
      "width": null
     }
    },
    "6ca8688ff56f4b968cf26e4cd4ea439b": {
     "model_module": "@jupyter-widgets/base",
     "model_module_version": "1.2.0",
     "model_name": "LayoutModel",
     "state": {
      "_model_module": "@jupyter-widgets/base",
      "_model_module_version": "1.2.0",
      "_model_name": "LayoutModel",
      "_view_count": null,
      "_view_module": "@jupyter-widgets/base",
      "_view_module_version": "1.2.0",
      "_view_name": "LayoutView",
      "align_content": null,
      "align_items": null,
      "align_self": null,
      "border": null,
      "bottom": null,
      "display": null,
      "flex": null,
      "flex_flow": null,
      "grid_area": null,
      "grid_auto_columns": null,
      "grid_auto_flow": null,
      "grid_auto_rows": null,
      "grid_column": null,
      "grid_gap": null,
      "grid_row": null,
      "grid_template_areas": null,
      "grid_template_columns": null,
      "grid_template_rows": null,
      "height": null,
      "justify_content": null,
      "justify_items": null,
      "left": null,
      "margin": null,
      "max_height": null,
      "max_width": null,
      "min_height": null,
      "min_width": null,
      "object_fit": null,
      "object_position": null,
      "order": null,
      "overflow": null,
      "overflow_x": null,
      "overflow_y": null,
      "padding": null,
      "right": null,
      "top": null,
      "visibility": null,
      "width": null
     }
    },
    "6d8cfdfa16424b5689d7df1d92bf4e60": {
     "model_module": "@jupyter-widgets/base",
     "model_module_version": "1.2.0",
     "model_name": "LayoutModel",
     "state": {
      "_model_module": "@jupyter-widgets/base",
      "_model_module_version": "1.2.0",
      "_model_name": "LayoutModel",
      "_view_count": null,
      "_view_module": "@jupyter-widgets/base",
      "_view_module_version": "1.2.0",
      "_view_name": "LayoutView",
      "align_content": null,
      "align_items": null,
      "align_self": null,
      "border": null,
      "bottom": null,
      "display": null,
      "flex": null,
      "flex_flow": null,
      "grid_area": null,
      "grid_auto_columns": null,
      "grid_auto_flow": null,
      "grid_auto_rows": null,
      "grid_column": null,
      "grid_gap": null,
      "grid_row": null,
      "grid_template_areas": null,
      "grid_template_columns": null,
      "grid_template_rows": null,
      "height": null,
      "justify_content": null,
      "justify_items": null,
      "left": null,
      "margin": null,
      "max_height": null,
      "max_width": null,
      "min_height": null,
      "min_width": null,
      "object_fit": null,
      "object_position": null,
      "order": null,
      "overflow": null,
      "overflow_x": null,
      "overflow_y": null,
      "padding": null,
      "right": null,
      "top": null,
      "visibility": null,
      "width": null
     }
    },
    "78d8bc4ea70d4ab88292166cd1abde07": {
     "model_module": "@jupyter-widgets/controls",
     "model_module_version": "1.5.0",
     "model_name": "DescriptionStyleModel",
     "state": {
      "_model_module": "@jupyter-widgets/controls",
      "_model_module_version": "1.5.0",
      "_model_name": "DescriptionStyleModel",
      "_view_count": null,
      "_view_module": "@jupyter-widgets/base",
      "_view_module_version": "1.2.0",
      "_view_name": "StyleView",
      "description_width": ""
     }
    },
    "7e5f496f4e2748daaf53c78003a8a358": {
     "model_module": "@jupyter-widgets/controls",
     "model_module_version": "1.5.0",
     "model_name": "HBoxModel",
     "state": {
      "_dom_classes": [],
      "_model_module": "@jupyter-widgets/controls",
      "_model_module_version": "1.5.0",
      "_model_name": "HBoxModel",
      "_view_count": null,
      "_view_module": "@jupyter-widgets/controls",
      "_view_module_version": "1.5.0",
      "_view_name": "HBoxView",
      "box_style": "",
      "children": [
       "IPY_MODEL_1f02957db1864369817f7872153b4379",
       "IPY_MODEL_b71e9ba33ef04e2a8fd4046bb3102162",
       "IPY_MODEL_0c05cfd2f2fe43f4be35847c5fccdd8a"
      ],
      "layout": "IPY_MODEL_a52d1d610fd24ab691767917b8e9141a"
     }
    },
    "82139531b34b4cd78446558721da2426": {
     "model_module": "@jupyter-widgets/controls",
     "model_module_version": "1.5.0",
     "model_name": "HTMLModel",
     "state": {
      "_dom_classes": [],
      "_model_module": "@jupyter-widgets/controls",
      "_model_module_version": "1.5.0",
      "_model_name": "HTMLModel",
      "_view_count": null,
      "_view_module": "@jupyter-widgets/controls",
      "_view_module_version": "1.5.0",
      "_view_name": "HTMLView",
      "description": "",
      "description_tooltip": null,
      "layout": "IPY_MODEL_d718b6e8a08d4419b91ad3b90e473950",
      "placeholder": "​",
      "style": "IPY_MODEL_65424f2e9da944c589e2f6961e082a51",
      "value": " 5148/5148 [00:00&lt;00:00, 175915.96it/s]"
     }
    },
    "848f13844de64093b36c8ead5718b8db": {
     "model_module": "@jupyter-widgets/controls",
     "model_module_version": "1.5.0",
     "model_name": "HTMLModel",
     "state": {
      "_dom_classes": [],
      "_model_module": "@jupyter-widgets/controls",
      "_model_module_version": "1.5.0",
      "_model_name": "HTMLModel",
      "_view_count": null,
      "_view_module": "@jupyter-widgets/controls",
      "_view_module_version": "1.5.0",
      "_view_name": "HTMLView",
      "description": "",
      "description_tooltip": null,
      "layout": "IPY_MODEL_ec7c2617dc154109814c4f30c8e2b53c",
      "placeholder": "​",
      "style": "IPY_MODEL_8b62e0fb86774fd18abb879f32213c54",
      "value": "100%"
     }
    },
    "8b62e0fb86774fd18abb879f32213c54": {
     "model_module": "@jupyter-widgets/controls",
     "model_module_version": "1.5.0",
     "model_name": "DescriptionStyleModel",
     "state": {
      "_model_module": "@jupyter-widgets/controls",
      "_model_module_version": "1.5.0",
      "_model_name": "DescriptionStyleModel",
      "_view_count": null,
      "_view_module": "@jupyter-widgets/base",
      "_view_module_version": "1.2.0",
      "_view_name": "StyleView",
      "description_width": ""
     }
    },
    "9b742f6660ca455ea6d2731b2182e3cb": {
     "model_module": "@jupyter-widgets/controls",
     "model_module_version": "1.5.0",
     "model_name": "ProgressStyleModel",
     "state": {
      "_model_module": "@jupyter-widgets/controls",
      "_model_module_version": "1.5.0",
      "_model_name": "ProgressStyleModel",
      "_view_count": null,
      "_view_module": "@jupyter-widgets/base",
      "_view_module_version": "1.2.0",
      "_view_name": "StyleView",
      "bar_color": null,
      "description_width": ""
     }
    },
    "9db4448d617843e1bbf9dd4e657cec28": {
     "model_module": "@jupyter-widgets/base",
     "model_module_version": "1.2.0",
     "model_name": "LayoutModel",
     "state": {
      "_model_module": "@jupyter-widgets/base",
      "_model_module_version": "1.2.0",
      "_model_name": "LayoutModel",
      "_view_count": null,
      "_view_module": "@jupyter-widgets/base",
      "_view_module_version": "1.2.0",
      "_view_name": "LayoutView",
      "align_content": null,
      "align_items": null,
      "align_self": null,
      "border": null,
      "bottom": null,
      "display": null,
      "flex": null,
      "flex_flow": null,
      "grid_area": null,
      "grid_auto_columns": null,
      "grid_auto_flow": null,
      "grid_auto_rows": null,
      "grid_column": null,
      "grid_gap": null,
      "grid_row": null,
      "grid_template_areas": null,
      "grid_template_columns": null,
      "grid_template_rows": null,
      "height": null,
      "justify_content": null,
      "justify_items": null,
      "left": null,
      "margin": null,
      "max_height": null,
      "max_width": null,
      "min_height": null,
      "min_width": null,
      "object_fit": null,
      "object_position": null,
      "order": null,
      "overflow": null,
      "overflow_x": null,
      "overflow_y": null,
      "padding": null,
      "right": null,
      "top": null,
      "visibility": null,
      "width": null
     }
    },
    "a52d1d610fd24ab691767917b8e9141a": {
     "model_module": "@jupyter-widgets/base",
     "model_module_version": "1.2.0",
     "model_name": "LayoutModel",
     "state": {
      "_model_module": "@jupyter-widgets/base",
      "_model_module_version": "1.2.0",
      "_model_name": "LayoutModel",
      "_view_count": null,
      "_view_module": "@jupyter-widgets/base",
      "_view_module_version": "1.2.0",
      "_view_name": "LayoutView",
      "align_content": null,
      "align_items": null,
      "align_self": null,
      "border": null,
      "bottom": null,
      "display": null,
      "flex": null,
      "flex_flow": null,
      "grid_area": null,
      "grid_auto_columns": null,
      "grid_auto_flow": null,
      "grid_auto_rows": null,
      "grid_column": null,
      "grid_gap": null,
      "grid_row": null,
      "grid_template_areas": null,
      "grid_template_columns": null,
      "grid_template_rows": null,
      "height": null,
      "justify_content": null,
      "justify_items": null,
      "left": null,
      "margin": null,
      "max_height": null,
      "max_width": null,
      "min_height": null,
      "min_width": null,
      "object_fit": null,
      "object_position": null,
      "order": null,
      "overflow": null,
      "overflow_x": null,
      "overflow_y": null,
      "padding": null,
      "right": null,
      "top": null,
      "visibility": null,
      "width": null
     }
    },
    "ac3638273af2455bb87b4ef279e6683d": {
     "model_module": "@jupyter-widgets/controls",
     "model_module_version": "1.5.0",
     "model_name": "HBoxModel",
     "state": {
      "_dom_classes": [],
      "_model_module": "@jupyter-widgets/controls",
      "_model_module_version": "1.5.0",
      "_model_name": "HBoxModel",
      "_view_count": null,
      "_view_module": "@jupyter-widgets/controls",
      "_view_module_version": "1.5.0",
      "_view_name": "HBoxView",
      "box_style": "",
      "children": [
       "IPY_MODEL_ef9b78e8a0c341ef9ae64ecaf84ae05e",
       "IPY_MODEL_f18a93fb63384520bc112fa2cbad9b9d",
       "IPY_MODEL_3e84e9067d35438893295e8bb2802c9a"
      ],
      "layout": "IPY_MODEL_6ca8688ff56f4b968cf26e4cd4ea439b"
     }
    },
    "ad2318d739134fb5b9bc9abaca670e25": {
     "model_module": "@jupyter-widgets/base",
     "model_module_version": "1.2.0",
     "model_name": "LayoutModel",
     "state": {
      "_model_module": "@jupyter-widgets/base",
      "_model_module_version": "1.2.0",
      "_model_name": "LayoutModel",
      "_view_count": null,
      "_view_module": "@jupyter-widgets/base",
      "_view_module_version": "1.2.0",
      "_view_name": "LayoutView",
      "align_content": null,
      "align_items": null,
      "align_self": null,
      "border": null,
      "bottom": null,
      "display": null,
      "flex": null,
      "flex_flow": null,
      "grid_area": null,
      "grid_auto_columns": null,
      "grid_auto_flow": null,
      "grid_auto_rows": null,
      "grid_column": null,
      "grid_gap": null,
      "grid_row": null,
      "grid_template_areas": null,
      "grid_template_columns": null,
      "grid_template_rows": null,
      "height": null,
      "justify_content": null,
      "justify_items": null,
      "left": null,
      "margin": null,
      "max_height": null,
      "max_width": null,
      "min_height": null,
      "min_width": null,
      "object_fit": null,
      "object_position": null,
      "order": null,
      "overflow": null,
      "overflow_x": null,
      "overflow_y": null,
      "padding": null,
      "right": null,
      "top": null,
      "visibility": null,
      "width": null
     }
    },
    "b4d970f6d0ea40a8990fd1f99f896721": {
     "model_module": "@jupyter-widgets/controls",
     "model_module_version": "1.5.0",
     "model_name": "ProgressStyleModel",
     "state": {
      "_model_module": "@jupyter-widgets/controls",
      "_model_module_version": "1.5.0",
      "_model_name": "ProgressStyleModel",
      "_view_count": null,
      "_view_module": "@jupyter-widgets/base",
      "_view_module_version": "1.2.0",
      "_view_name": "StyleView",
      "bar_color": null,
      "description_width": ""
     }
    },
    "b71e9ba33ef04e2a8fd4046bb3102162": {
     "model_module": "@jupyter-widgets/controls",
     "model_module_version": "1.5.0",
     "model_name": "FloatProgressModel",
     "state": {
      "_dom_classes": [],
      "_model_module": "@jupyter-widgets/controls",
      "_model_module_version": "1.5.0",
      "_model_name": "FloatProgressModel",
      "_view_count": null,
      "_view_module": "@jupyter-widgets/controls",
      "_view_module_version": "1.5.0",
      "_view_name": "ProgressView",
      "bar_style": "success",
      "description": "",
      "description_tooltip": null,
      "layout": "IPY_MODEL_ee20f8c4d50d475a9c199b403b9d387e",
      "max": 29515,
      "min": 0,
      "orientation": "horizontal",
      "style": "IPY_MODEL_dc4a8d4f07fd4900a802b54d2dec4c99",
      "value": 29515
     }
    },
    "c577050be9f743c9970f2b3baa7e4510": {
     "model_module": "@jupyter-widgets/base",
     "model_module_version": "1.2.0",
     "model_name": "LayoutModel",
     "state": {
      "_model_module": "@jupyter-widgets/base",
      "_model_module_version": "1.2.0",
      "_model_name": "LayoutModel",
      "_view_count": null,
      "_view_module": "@jupyter-widgets/base",
      "_view_module_version": "1.2.0",
      "_view_name": "LayoutView",
      "align_content": null,
      "align_items": null,
      "align_self": null,
      "border": null,
      "bottom": null,
      "display": null,
      "flex": null,
      "flex_flow": null,
      "grid_area": null,
      "grid_auto_columns": null,
      "grid_auto_flow": null,
      "grid_auto_rows": null,
      "grid_column": null,
      "grid_gap": null,
      "grid_row": null,
      "grid_template_areas": null,
      "grid_template_columns": null,
      "grid_template_rows": null,
      "height": null,
      "justify_content": null,
      "justify_items": null,
      "left": null,
      "margin": null,
      "max_height": null,
      "max_width": null,
      "min_height": null,
      "min_width": null,
      "object_fit": null,
      "object_position": null,
      "order": null,
      "overflow": null,
      "overflow_x": null,
      "overflow_y": null,
      "padding": null,
      "right": null,
      "top": null,
      "visibility": null,
      "width": null
     }
    },
    "d384acef13bd416fa73c6b0dd8288992": {
     "model_module": "@jupyter-widgets/base",
     "model_module_version": "1.2.0",
     "model_name": "LayoutModel",
     "state": {
      "_model_module": "@jupyter-widgets/base",
      "_model_module_version": "1.2.0",
      "_model_name": "LayoutModel",
      "_view_count": null,
      "_view_module": "@jupyter-widgets/base",
      "_view_module_version": "1.2.0",
      "_view_name": "LayoutView",
      "align_content": null,
      "align_items": null,
      "align_self": null,
      "border": null,
      "bottom": null,
      "display": null,
      "flex": null,
      "flex_flow": null,
      "grid_area": null,
      "grid_auto_columns": null,
      "grid_auto_flow": null,
      "grid_auto_rows": null,
      "grid_column": null,
      "grid_gap": null,
      "grid_row": null,
      "grid_template_areas": null,
      "grid_template_columns": null,
      "grid_template_rows": null,
      "height": null,
      "justify_content": null,
      "justify_items": null,
      "left": null,
      "margin": null,
      "max_height": null,
      "max_width": null,
      "min_height": null,
      "min_width": null,
      "object_fit": null,
      "object_position": null,
      "order": null,
      "overflow": null,
      "overflow_x": null,
      "overflow_y": null,
      "padding": null,
      "right": null,
      "top": null,
      "visibility": null,
      "width": null
     }
    },
    "d718b6e8a08d4419b91ad3b90e473950": {
     "model_module": "@jupyter-widgets/base",
     "model_module_version": "1.2.0",
     "model_name": "LayoutModel",
     "state": {
      "_model_module": "@jupyter-widgets/base",
      "_model_module_version": "1.2.0",
      "_model_name": "LayoutModel",
      "_view_count": null,
      "_view_module": "@jupyter-widgets/base",
      "_view_module_version": "1.2.0",
      "_view_name": "LayoutView",
      "align_content": null,
      "align_items": null,
      "align_self": null,
      "border": null,
      "bottom": null,
      "display": null,
      "flex": null,
      "flex_flow": null,
      "grid_area": null,
      "grid_auto_columns": null,
      "grid_auto_flow": null,
      "grid_auto_rows": null,
      "grid_column": null,
      "grid_gap": null,
      "grid_row": null,
      "grid_template_areas": null,
      "grid_template_columns": null,
      "grid_template_rows": null,
      "height": null,
      "justify_content": null,
      "justify_items": null,
      "left": null,
      "margin": null,
      "max_height": null,
      "max_width": null,
      "min_height": null,
      "min_width": null,
      "object_fit": null,
      "object_position": null,
      "order": null,
      "overflow": null,
      "overflow_x": null,
      "overflow_y": null,
      "padding": null,
      "right": null,
      "top": null,
      "visibility": null,
      "width": null
     }
    },
    "dc4a8d4f07fd4900a802b54d2dec4c99": {
     "model_module": "@jupyter-widgets/controls",
     "model_module_version": "1.5.0",
     "model_name": "ProgressStyleModel",
     "state": {
      "_model_module": "@jupyter-widgets/controls",
      "_model_module_version": "1.5.0",
      "_model_name": "ProgressStyleModel",
      "_view_count": null,
      "_view_module": "@jupyter-widgets/base",
      "_view_module_version": "1.2.0",
      "_view_name": "StyleView",
      "bar_color": null,
      "description_width": ""
     }
    },
    "dc4c5d99760c416bbad7ca9ee55a1935": {
     "model_module": "@jupyter-widgets/base",
     "model_module_version": "1.2.0",
     "model_name": "LayoutModel",
     "state": {
      "_model_module": "@jupyter-widgets/base",
      "_model_module_version": "1.2.0",
      "_model_name": "LayoutModel",
      "_view_count": null,
      "_view_module": "@jupyter-widgets/base",
      "_view_module_version": "1.2.0",
      "_view_name": "LayoutView",
      "align_content": null,
      "align_items": null,
      "align_self": null,
      "border": null,
      "bottom": null,
      "display": null,
      "flex": null,
      "flex_flow": null,
      "grid_area": null,
      "grid_auto_columns": null,
      "grid_auto_flow": null,
      "grid_auto_rows": null,
      "grid_column": null,
      "grid_gap": null,
      "grid_row": null,
      "grid_template_areas": null,
      "grid_template_columns": null,
      "grid_template_rows": null,
      "height": null,
      "justify_content": null,
      "justify_items": null,
      "left": null,
      "margin": null,
      "max_height": null,
      "max_width": null,
      "min_height": null,
      "min_width": null,
      "object_fit": null,
      "object_position": null,
      "order": null,
      "overflow": null,
      "overflow_x": null,
      "overflow_y": null,
      "padding": null,
      "right": null,
      "top": null,
      "visibility": null,
      "width": null
     }
    },
    "dded1d390858479fa64ca59d57420edf": {
     "model_module": "@jupyter-widgets/base",
     "model_module_version": "1.2.0",
     "model_name": "LayoutModel",
     "state": {
      "_model_module": "@jupyter-widgets/base",
      "_model_module_version": "1.2.0",
      "_model_name": "LayoutModel",
      "_view_count": null,
      "_view_module": "@jupyter-widgets/base",
      "_view_module_version": "1.2.0",
      "_view_name": "LayoutView",
      "align_content": null,
      "align_items": null,
      "align_self": null,
      "border": null,
      "bottom": null,
      "display": null,
      "flex": null,
      "flex_flow": null,
      "grid_area": null,
      "grid_auto_columns": null,
      "grid_auto_flow": null,
      "grid_auto_rows": null,
      "grid_column": null,
      "grid_gap": null,
      "grid_row": null,
      "grid_template_areas": null,
      "grid_template_columns": null,
      "grid_template_rows": null,
      "height": null,
      "justify_content": null,
      "justify_items": null,
      "left": null,
      "margin": null,
      "max_height": null,
      "max_width": null,
      "min_height": null,
      "min_width": null,
      "object_fit": null,
      "object_position": null,
      "order": null,
      "overflow": null,
      "overflow_x": null,
      "overflow_y": null,
      "padding": null,
      "right": null,
      "top": null,
      "visibility": null,
      "width": null
     }
    },
    "e2b74b0e552a433fb15b623b6de4d667": {
     "model_module": "@jupyter-widgets/controls",
     "model_module_version": "1.5.0",
     "model_name": "HTMLModel",
     "state": {
      "_dom_classes": [],
      "_model_module": "@jupyter-widgets/controls",
      "_model_module_version": "1.5.0",
      "_model_name": "HTMLModel",
      "_view_count": null,
      "_view_module": "@jupyter-widgets/controls",
      "_view_module_version": "1.5.0",
      "_view_name": "HTMLView",
      "description": "",
      "description_tooltip": null,
      "layout": "IPY_MODEL_dded1d390858479fa64ca59d57420edf",
      "placeholder": "​",
      "style": "IPY_MODEL_263b0a37864d4eb9a89459590926b178",
      "value": "100%"
     }
    },
    "e70f2141e8fb4aa9894429829edfb6e8": {
     "model_module": "@jupyter-widgets/controls",
     "model_module_version": "1.5.0",
     "model_name": "DescriptionStyleModel",
     "state": {
      "_model_module": "@jupyter-widgets/controls",
      "_model_module_version": "1.5.0",
      "_model_name": "DescriptionStyleModel",
      "_view_count": null,
      "_view_module": "@jupyter-widgets/base",
      "_view_module_version": "1.2.0",
      "_view_name": "StyleView",
      "description_width": ""
     }
    },
    "ec7c2617dc154109814c4f30c8e2b53c": {
     "model_module": "@jupyter-widgets/base",
     "model_module_version": "1.2.0",
     "model_name": "LayoutModel",
     "state": {
      "_model_module": "@jupyter-widgets/base",
      "_model_module_version": "1.2.0",
      "_model_name": "LayoutModel",
      "_view_count": null,
      "_view_module": "@jupyter-widgets/base",
      "_view_module_version": "1.2.0",
      "_view_name": "LayoutView",
      "align_content": null,
      "align_items": null,
      "align_self": null,
      "border": null,
      "bottom": null,
      "display": null,
      "flex": null,
      "flex_flow": null,
      "grid_area": null,
      "grid_auto_columns": null,
      "grid_auto_flow": null,
      "grid_auto_rows": null,
      "grid_column": null,
      "grid_gap": null,
      "grid_row": null,
      "grid_template_areas": null,
      "grid_template_columns": null,
      "grid_template_rows": null,
      "height": null,
      "justify_content": null,
      "justify_items": null,
      "left": null,
      "margin": null,
      "max_height": null,
      "max_width": null,
      "min_height": null,
      "min_width": null,
      "object_fit": null,
      "object_position": null,
      "order": null,
      "overflow": null,
      "overflow_x": null,
      "overflow_y": null,
      "padding": null,
      "right": null,
      "top": null,
      "visibility": null,
      "width": null
     }
    },
    "edb44bf0be274565836d675a9e33452c": {
     "model_module": "@jupyter-widgets/controls",
     "model_module_version": "1.5.0",
     "model_name": "FloatProgressModel",
     "state": {
      "_dom_classes": [],
      "_model_module": "@jupyter-widgets/controls",
      "_model_module_version": "1.5.0",
      "_model_name": "FloatProgressModel",
      "_view_count": null,
      "_view_module": "@jupyter-widgets/controls",
      "_view_module_version": "1.5.0",
      "_view_name": "ProgressView",
      "bar_style": "success",
      "description": "",
      "description_tooltip": null,
      "layout": "IPY_MODEL_c577050be9f743c9970f2b3baa7e4510",
      "max": 4422102,
      "min": 0,
      "orientation": "horizontal",
      "style": "IPY_MODEL_b4d970f6d0ea40a8990fd1f99f896721",
      "value": 4422102
     }
    },
    "ee20f8c4d50d475a9c199b403b9d387e": {
     "model_module": "@jupyter-widgets/base",
     "model_module_version": "1.2.0",
     "model_name": "LayoutModel",
     "state": {
      "_model_module": "@jupyter-widgets/base",
      "_model_module_version": "1.2.0",
      "_model_name": "LayoutModel",
      "_view_count": null,
      "_view_module": "@jupyter-widgets/base",
      "_view_module_version": "1.2.0",
      "_view_name": "LayoutView",
      "align_content": null,
      "align_items": null,
      "align_self": null,
      "border": null,
      "bottom": null,
      "display": null,
      "flex": null,
      "flex_flow": null,
      "grid_area": null,
      "grid_auto_columns": null,
      "grid_auto_flow": null,
      "grid_auto_rows": null,
      "grid_column": null,
      "grid_gap": null,
      "grid_row": null,
      "grid_template_areas": null,
      "grid_template_columns": null,
      "grid_template_rows": null,
      "height": null,
      "justify_content": null,
      "justify_items": null,
      "left": null,
      "margin": null,
      "max_height": null,
      "max_width": null,
      "min_height": null,
      "min_width": null,
      "object_fit": null,
      "object_position": null,
      "order": null,
      "overflow": null,
      "overflow_x": null,
      "overflow_y": null,
      "padding": null,
      "right": null,
      "top": null,
      "visibility": null,
      "width": null
     }
    },
    "eee8eee6cb0f4d53ad8bc0dfae15fcfa": {
     "model_module": "@jupyter-widgets/controls",
     "model_module_version": "1.5.0",
     "model_name": "DescriptionStyleModel",
     "state": {
      "_model_module": "@jupyter-widgets/controls",
      "_model_module_version": "1.5.0",
      "_model_name": "DescriptionStyleModel",
      "_view_count": null,
      "_view_module": "@jupyter-widgets/base",
      "_view_module_version": "1.2.0",
      "_view_name": "StyleView",
      "description_width": ""
     }
    },
    "ef9b78e8a0c341ef9ae64ecaf84ae05e": {
     "model_module": "@jupyter-widgets/controls",
     "model_module_version": "1.5.0",
     "model_name": "HTMLModel",
     "state": {
      "_dom_classes": [],
      "_model_module": "@jupyter-widgets/controls",
      "_model_module_version": "1.5.0",
      "_model_name": "HTMLModel",
      "_view_count": null,
      "_view_module": "@jupyter-widgets/controls",
      "_view_module_version": "1.5.0",
      "_view_name": "HTMLView",
      "description": "",
      "description_tooltip": null,
      "layout": "IPY_MODEL_9db4448d617843e1bbf9dd4e657cec28",
      "placeholder": "​",
      "style": "IPY_MODEL_28247583bf51419685ea9c0ae03a5307",
      "value": "100%"
     }
    },
    "f18a93fb63384520bc112fa2cbad9b9d": {
     "model_module": "@jupyter-widgets/controls",
     "model_module_version": "1.5.0",
     "model_name": "FloatProgressModel",
     "state": {
      "_dom_classes": [],
      "_model_module": "@jupyter-widgets/controls",
      "_model_module_version": "1.5.0",
      "_model_name": "FloatProgressModel",
      "_view_count": null,
      "_view_module": "@jupyter-widgets/controls",
      "_view_module_version": "1.5.0",
      "_view_name": "ProgressView",
      "bar_style": "success",
      "description": "",
      "description_tooltip": null,
      "layout": "IPY_MODEL_f69b38f9098343118af85bad3cd71e35",
      "max": 26421880,
      "min": 0,
      "orientation": "horizontal",
      "style": "IPY_MODEL_3e32b06b69c74f1099874b3f23efea92",
      "value": 26421880
     }
    },
    "f69b38f9098343118af85bad3cd71e35": {
     "model_module": "@jupyter-widgets/base",
     "model_module_version": "1.2.0",
     "model_name": "LayoutModel",
     "state": {
      "_model_module": "@jupyter-widgets/base",
      "_model_module_version": "1.2.0",
      "_model_name": "LayoutModel",
      "_view_count": null,
      "_view_module": "@jupyter-widgets/base",
      "_view_module_version": "1.2.0",
      "_view_name": "LayoutView",
      "align_content": null,
      "align_items": null,
      "align_self": null,
      "border": null,
      "bottom": null,
      "display": null,
      "flex": null,
      "flex_flow": null,
      "grid_area": null,
      "grid_auto_columns": null,
      "grid_auto_flow": null,
      "grid_auto_rows": null,
      "grid_column": null,
      "grid_gap": null,
      "grid_row": null,
      "grid_template_areas": null,
      "grid_template_columns": null,
      "grid_template_rows": null,
      "height": null,
      "justify_content": null,
      "justify_items": null,
      "left": null,
      "margin": null,
      "max_height": null,
      "max_width": null,
      "min_height": null,
      "min_width": null,
      "object_fit": null,
      "object_position": null,
      "order": null,
      "overflow": null,
      "overflow_x": null,
      "overflow_y": null,
      "padding": null,
      "right": null,
      "top": null,
      "visibility": null,
      "width": null
     }
    }
   }
  }
 },
 "nbformat": 4,
 "nbformat_minor": 1
}
